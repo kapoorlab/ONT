{
 "cells": [
  {
   "cell_type": "code",
   "execution_count": 1,
   "metadata": {},
   "outputs": [
    {
     "name": "stderr",
     "output_type": "stream",
     "text": [
      "Using TensorFlow backend.\n"
     ]
    },
    {
     "name": "stdout",
     "output_type": "stream",
     "text": [
      "1 Physical GPUs, 1 Logical GPUs\n"
     ]
    }
   ],
   "source": [
    "import sys\n",
    "import os\n",
    "from glob import glob\n",
    "sys.path.append(\"../\")\n",
    "from NEATModels import NEATStaticDetection, nets\n",
    "from NEATModels.Staticconfig  import StaticNeatConfig\n",
    "from NEATUtils import helpers\n",
    "from NEATUtils.helpers import save_json, load_json\n",
    "os.environ[\"CUDA_VISIBLE_DEVICES\"]=\"1\"\n",
    "os.environ[\"HDF5_USE_FILE_LOCKING\"] = \"FALSE\"\n",
    "import tensorflow as tf\n",
    "gpus = tf.config.experimental.list_physical_devices('GPU')\n",
    "if gpus:\n",
    "    try:\n",
    "        # Currently, memory growth needs to be the same across GPUs\n",
    "        for gpu in gpus:\n",
    "            tf.config.experimental.set_memory_growth(gpu, True)\n",
    "        logical_gpus = tf.config.experimental.list_logical_devices('GPU')\n",
    "        print(len(gpus), \"Physical GPUs,\", len(logical_gpus), \"Logical GPUs\")\n",
    "    except RuntimeError as e:\n",
    "        # Memory growth must be set before GPUs have been initialized\n",
    "        print(e)"
   ]
  },
  {
   "cell_type": "code",
   "execution_count": 2,
   "metadata": {},
   "outputs": [],
   "source": [
    "#Input the training directory containing training image patches and labels \n",
    "TrainDataDir = '/home/sancere/Kepler/FinalONEATTraining/StaticCenterTrainData/'\n",
    "#Directory containing the train category json, model parameter and weight vector file\n",
    "ModelDir = '/home/sancere/Kepler/FinalONEATTraining/NEATModel/'\n",
    "#Model name based on wether it is residual or sequntial ONEAT network\n",
    "Model_Name = 'ORStaticONEAT.h5'\n",
    "StaticCategoriesJson = ModelDir + 'StaticCategories.json'\n",
    "KeyCategories = load_json(StaticCategoriesJson)\n",
    "\n",
    "StaticCordJson = ModelDir + 'StaticCord.json'\n",
    "KeyCord = load_json(StaticCordJson)"
   ]
  },
  {
   "cell_type": "code",
   "execution_count": 3,
   "metadata": {},
   "outputs": [],
   "source": [
    "#Neural network parameters\n",
    "#For ORNET use residual = True and for OSNET use residual = False\n",
    "residual = True\n",
    "#NUmber of starting convolutional filters, is doubled down with increasing depth\n",
    "startfilter = 32\n",
    "#CNN network start layer, mid layers and lstm layer kernel size\n",
    "start_kernel = 3\n",
    "mid_kernel = 3\n",
    "#Network depth has to be 9n + 2, n= 3 or 4 is optimal for Notum dataset\n",
    "depth = 38\n",
    "#Training epochs, longer the better with proper chosen learning rate\n",
    "epochs = 150\n",
    "#Size of the gradient descent length vector, start small and use callbacs to get smaller when reaching the minima\n",
    "learning_rate = 1.0E-6\n",
    "#For stochastic gradient decent, the batch size used for computing the gradients\n",
    "batch_size = 10\n",
    "# use softmax for single event per box, sigmoid for multi event per box\n",
    "multievent = False\n",
    "# Trainng image size\n",
    "\n",
    "ImageX = 128\n",
    "ImageY = 128\n",
    "\n"
   ]
  },
  {
   "cell_type": "code",
   "execution_count": 5,
   "metadata": {},
   "outputs": [
    {
     "name": "stdout",
     "output_type": "stream",
     "text": [
      "StaticNeatConfig(ImageX=128, ImageY=128, ModelName='ORStaticONEAT.h5', batch_size=10, box_vector=4, categories=4, depth=38, epochs=150, gridX=1, gridY=1, learning_rate=1e-06, mid_kernel=3, multievent=False, nboxes=1, residual=True, start_kernel=3, startfilter=32)\n"
     ]
    }
   ],
   "source": [
    "config = StaticNeatConfig(residual = residual, depth = depth, start_kernel = start_kernel, mid_kernel = mid_kernel,\n",
    "                         startfiler = startfilter, gridX = 1, gridY = 1, ImageX = ImageX, ImageY = ImageY, nboxes = 1, \n",
    "                         epochs = epochs, categories = len(KeyCategories), box_vector = len(KeyCord), learning_rate = learning_rate,\n",
    "                         batch_size = batch_size, ModelName = Model_Name, multievent = multievent)\n",
    "\n",
    "config_json = config.to_json()\n",
    "show = True\n",
    "print(config)\n",
    "save_json(config_json, ModelDir + Model_Name + '_Parameter.json')"
   ]
  },
  {
   "cell_type": "code",
   "execution_count": 6,
   "metadata": {
    "scrolled": false
   },
   "outputs": [
    {
     "name": "stdout",
     "output_type": "stream",
     "text": [
      "number of  images:\t 1689\n",
      "image size:\t\t (1689, 128, 128, 1)\n",
      "Labels:\t\t\t\t (1689, 1, 1, 8)\n"
     ]
    }
   ],
   "source": [
    "Train = NEATStaticDetection(config, TrainDataDir, KeyCategories, KeyCord, ModelDir, Model_Name, show = show)\n",
    "\n",
    "Train.loadData()\n",
    "\n"
   ]
  },
  {
   "cell_type": "code",
   "execution_count": null,
   "metadata": {
    "scrolled": false
   },
   "outputs": [],
   "source": [
    "Train.TrainModel()"
   ]
  },
  {
   "cell_type": "code",
   "execution_count": null,
   "metadata": {},
   "outputs": [],
   "source": []
  },
  {
   "cell_type": "code",
   "execution_count": null,
   "metadata": {},
   "outputs": [],
   "source": []
  }
 ],
 "metadata": {
  "kernelspec": {
   "display_name": "Python 3",
   "language": "python",
   "name": "python3"
  },
  "language_info": {
   "codemirror_mode": {
    "name": "ipython",
    "version": 3
   },
   "file_extension": ".py",
   "mimetype": "text/x-python",
   "name": "python",
   "nbconvert_exporter": "python",
   "pygments_lexer": "ipython3",
   "version": "3.6.10"
  },
  "toc": {
   "base_numbering": 1,
   "nav_menu": {},
   "number_sections": false,
   "sideBar": false,
   "skip_h1_title": false,
   "title_cell": "Table of Contents",
   "title_sidebar": "Contents",
   "toc_cell": false,
   "toc_position": {},
   "toc_section_display": false,
   "toc_window_display": false
  }
 },
 "nbformat": 4,
 "nbformat_minor": 4
}
