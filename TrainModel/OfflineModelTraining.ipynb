{
 "cells": [
  {
   "cell_type": "code",
   "execution_count": 1,
   "metadata": {},
   "outputs": [
    {
     "name": "stderr",
     "output_type": "stream",
     "text": [
      "Using TensorFlow backend.\n"
     ]
    }
   ],
   "source": [
    "import sys\n",
    "import os\n",
    "from glob import glob\n",
    "sys.path.append(\"../NEAT\")\n",
    "from NEATModels import NEATDetection, nets \n",
    "from NEATUtils import helpers\n",
    "os.environ[\"CUDA_VISIBLE_DEVICES\"]=\"0\"\n",
    "os.environ[\"HDF5_USE_FILE_LOCKING\"] = \"FALSE\""
   ]
  },
  {
   "cell_type": "code",
   "execution_count": 2,
   "metadata": {},
   "outputs": [],
   "source": [
    "NpzDirectory = '/home/sancere/VarunNewton/CurieTrainingDatasets/O-NEAT/'\n",
    "TrainModelName = 'MasterBigONEAT.npz'\n",
    "ValidationModelName = 'MasterBigONEATValidation.npz'\n",
    "\n",
    "#Read and Write the h5 file, directory location and name\n",
    "Model_dir = '/home/sancere/VarunNewton/CurieDeepLearningModels/O-NEATweights/'\n",
    "Model_Name = 'MidONEATd29cl48.h5'\n",
    "\n"
   ]
  },
  {
   "cell_type": "code",
   "execution_count": 3,
   "metadata": {},
   "outputs": [
    {
     "name": "stdout",
     "output_type": "stream",
     "text": [
      "loading weights\n"
     ]
    }
   ],
   "source": [
    "#Normal Events = 0, Apoptosis = 1, Division = 2\n",
    "categories = 6\n",
    "batch_size = 4\n",
    "lstm_hidden_units = 16\n",
    "epochs = 150\n",
    "depth = 29\n",
    "includeTop = True\n",
    "show = False\n",
    "TrainModel = nets.ONETresnet_v2\n",
    "model_weights = Model_dir + Model_Name\n",
    "\n",
    "if os.path.exists(model_weights):\n",
    "\n",
    "    model_weights = model_weights\n",
    "    print('loading weights')\n",
    "else:\n",
    "   \n",
    "    model_weights = None\n",
    "\n",
    "Categories_Name = []\n",
    "Categories_Name.append(['Normal', 0])\n",
    "Categories_Name.append(['Apoptosis', 1])\n",
    "Categories_Name.append(['Divisions', 2])\n",
    "Categories_Name.append(['MacroKitty', 3])\n",
    "Categories_Name.append(['NonMatureP1', 4])\n",
    "Categories_Name.append(['MatureP1', 5])\n",
    "\n"
   ]
  },
  {
   "cell_type": "code",
   "execution_count": null,
   "metadata": {},
   "outputs": [],
   "source": [
    "global Trainingmodel\n",
    "#Initate training of the model\n",
    "Trainingmodel = NEATDetection(NpzDirectory, TrainModelName,ValidationModelName, categories, Categories_Name, Model_dir, Model_Name, TrainModel, depth = depth, model_weights = model_weights, includeTop = includeTop, lstm_hidden_unit1 = lstm_hidden_units\n",
    "             ,epochs = epochs, batch_size = batch_size, show = show )"
   ]
  },
  {
   "cell_type": "code",
   "execution_count": null,
   "metadata": {},
   "outputs": [],
   "source": []
  },
  {
   "cell_type": "code",
   "execution_count": null,
   "metadata": {},
   "outputs": [],
   "source": []
  },
  {
   "cell_type": "code",
   "execution_count": null,
   "metadata": {},
   "outputs": [],
   "source": []
  }
 ],
 "metadata": {
  "kernelspec": {
   "display_name": "Python 3",
   "language": "python",
   "name": "python3"
  },
  "language_info": {
   "codemirror_mode": {
    "name": "ipython",
    "version": 3
   },
   "file_extension": ".py",
   "mimetype": "text/x-python",
   "name": "python",
   "nbconvert_exporter": "python",
   "pygments_lexer": "ipython3",
   "version": "3.6.10"
  },
  "toc": {
   "base_numbering": 1,
   "nav_menu": {},
   "number_sections": false,
   "sideBar": false,
   "skip_h1_title": false,
   "title_cell": "Table of Contents",
   "title_sidebar": "Contents",
   "toc_cell": false,
   "toc_position": {},
   "toc_section_display": false,
   "toc_window_display": false
  }
 },
 "nbformat": 4,
 "nbformat_minor": 4
}
