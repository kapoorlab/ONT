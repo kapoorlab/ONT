{
 "cells": [
  {
   "cell_type": "code",
   "execution_count": 1,
   "metadata": {},
   "outputs": [
    {
     "name": "stderr",
     "output_type": "stream",
     "text": [
      "Using TensorFlow backend.\n"
     ]
    }
   ],
   "source": [
    "import numpy as np\n",
    "from tifffile import imread \n",
    "import sys\n",
    "import os\n",
    "import cv2\n",
    "import glob\n",
    "from tqdm import tqdm\n",
    "import pandas as pd\n",
    "sys.path.append('../')\n",
    "from NEATUtils import MovieCreator\n",
    "from NEATUtils.helpers import save_json, load_json\n",
    "from NEATModels.TrainConfig import TrainConfig\n",
    "from pathlib import Path\n"
   ]
  },
  {
   "cell_type": "code",
   "execution_count": 2,
   "metadata": {},
   "outputs": [],
   "source": [
    "#Specify the directory containing images\n",
    "ImageDir = '/home/sancere/Kepler/FinalONEATTraining/NEATImages/'\n",
    "#Specify the directory contaiing csv files\n",
    "CSVDir = '/home/sancere/Kepler/FinalONEATTraining/NEATCSV/'\n",
    "#Specify the directory containing the segmentations\n",
    "SegImageDir = '/home/sancere/Kepler/FinalONEATTraining/NEATSegImages/'\n",
    "#Specify the model directory where we store the json of categories, training model and parameters\n",
    "ModelDir = '/home/sancere/Kepler/FinalONEATTraining/NEATModel/'\n",
    "#Directory for storing center ONEAT training data for static classes\n",
    "SaveDir = '/home/sancere/Kepler/FinalONEATTraining/StaticCenterTrainData/'\n",
    "Path(ModelDir).mkdir(exist_ok = True)\n",
    "\n"
   ]
  },
  {
   "cell_type": "code",
   "execution_count": 3,
   "metadata": {},
   "outputs": [],
   "source": [
    "#Name of the static events\n",
    "StaticName = [\"Normal\", \"MacroCheate\", \"NonMatureP1\", \"MatureP1\"]\n",
    "#Label corresponding to static event\n",
    "StaticLabel = [0, 1, 2, 3]\n",
    "\n",
    "#The name appended before the CSV files\n",
    "CSVNameDiff = 'ONEAT'\n"
   ]
  },
  {
   "cell_type": "code",
   "execution_count": 4,
   "metadata": {},
   "outputs": [],
   "source": [
    "#X Y static events\n",
    "crop_size = [128,128]\n",
    "\n",
    "#Vectors attached to each static event\n",
    "StaticCoordinateName = [\"X\", \"Y\", \"H\", \"W\", \"C\"]\n",
    "StaticCoordinateLabel = [0, 1, 2, 3, 4]\n",
    "\n",
    "offset = 10"
   ]
  },
  {
   "cell_type": "code",
   "execution_count": 5,
   "metadata": {},
   "outputs": [],
   "source": [
    "\n",
    "\n",
    "StaticConfig = TrainConfig(StaticName, StaticLabel, StaticCoordinateName, StaticCoordinateLabel)\n",
    "\n",
    "Static_json, Static_Cord_json = StaticConfig.to_json()\n",
    "save_json(Static_json, ModelDir + \"StaticCategories\" + '.json')\n",
    "\n",
    "save_json(Static_Cord_json, ModelDir + \"StaticCord\" + '.json')\n"
   ]
  },
  {
   "cell_type": "markdown",
   "metadata": {},
   "source": [
    "# For center ONEAT, event is exactly in the center for all training examples"
   ]
  },
  {
   "cell_type": "code",
   "execution_count": null,
   "metadata": {
    "scrolled": false
   },
   "outputs": [
    {
     "name": "stdout",
     "output_type": "stream",
     "text": [
      "/home/sancere/Kepler/FinalONEATTraining/NEATCSV/ONEATDIAP_mov5Normal.csv\n",
      "(slice(97, 98, None), slice(1353, 1481, None), slice(1611, 1739, None)) DIAP_mov5Normal0shift[0, 0]\n",
      "(slice(98, 99, None), slice(946, 1074, None), slice(1845, 1973, None)) DIAP_mov5Normal1shift[0, 0]\n",
      "(slice(66, 67, None), slice(929, 1057, None), slice(1726, 1854, None)) DIAP_mov5Normal2shift[0, 0]\n",
      "(slice(66, 67, None), slice(559, 687, None), slice(1261, 1389, None)) DIAP_mov5Normal3shift[0, 0]\n",
      "(slice(69, 70, None), slice(1049, 1177, None), slice(2134, 2262, None)) DIAP_mov5Normal4shift[0, 0]\n",
      "(slice(71, 72, None), slice(353, 481, None), slice(1335, 1463, None)) DIAP_mov5Normal5shift[0, 0]\n",
      "(slice(104, 105, None), slice(936, 1064, None), slice(1847, 1975, None)) DIAP_mov5Normal6shift[0, 0]\n",
      "(slice(40, 41, None), slice(1201, 1329, None), slice(1962, 2090, None)) DIAP_mov5Normal7shift[0, 0]\n",
      "(slice(72, 73, None), slice(1346, 1474, None), slice(1520, 1648, None)) DIAP_mov5Normal8shift[0, 0]\n",
      "(slice(74, 75, None), slice(942, 1070, None), slice(2059, 2187, None)) DIAP_mov5Normal9shift[0, 0]\n",
      "(slice(74, 75, None), slice(446, 574, None), slice(1372, 1500, None)) DIAP_mov5Normal10shift[0, 0]\n",
      "(slice(42, 43, None), slice(330, 458, None), slice(1302, 1430, None)) DIAP_mov5Normal11shift[0, 0]\n",
      "(slice(75, 76, None), slice(1160, 1288, None), slice(2154, 2282, None)) DIAP_mov5Normal12shift[0, 0]\n",
      "(slice(110, 111, None), slice(1059, 1187, None), slice(1107, 1235, None)) DIAP_mov5Normal13shift[0, 0]\n",
      "(slice(110, 111, None), slice(1043, 1171, None), slice(1088, 1216, None)) DIAP_mov5Normal14shift[0, 0]\n",
      "(slice(110, 111, None), slice(1360, 1488, None), slice(1640, 1768, None)) DIAP_mov5Normal15shift[0, 0]\n",
      "(slice(79, 80, None), slice(920, 1048, None), slice(290, 418, None)) DIAP_mov5Normal16shift[0, 0]\n",
      "(slice(79, 80, None), slice(779, 907, None), slice(284, 412, None)) DIAP_mov5Normal17shift[0, 0]\n",
      "(slice(79, 80, None), slice(998, 1126, None), slice(281, 409, None)) DIAP_mov5Normal18shift[0, 0]\n",
      "(slice(79, 80, None), slice(854, 982, None), slice(404, 532, None)) DIAP_mov5Normal19shift[0, 0]\n",
      "(slice(79, 80, None), slice(632, 760, None), slice(2282, 2410, None)) DIAP_mov5Normal20shift[0, 0]\n",
      "(slice(79, 80, None), slice(1049, 1177, None), slice(2315, 2443, None)) DIAP_mov5Normal21shift[0, 0]\n",
      "(slice(79, 80, None), slice(1847, 1975, None), slice(1814, 1942, None)) DIAP_mov5Normal22shift[0, 0]\n",
      "(slice(79, 80, None), slice(1952, 2080, None), slice(1403, 1531, None)) DIAP_mov5Normal23shift[0, 0]\n",
      "(slice(79, 80, None), slice(1982, 2110, None), slice(938, 1066, None)) DIAP_mov5Normal24shift[0, 0]\n",
      "(slice(79, 80, None), slice(1616, 1744, None), slice(536, 664, None)) DIAP_mov5Normal25shift[0, 0]\n",
      "(slice(79, 80, None), slice(1550, 1678, None), slice(239, 367, None)) DIAP_mov5Normal26shift[0, 0]\n",
      "(slice(79, 80, None), slice(1439, 1567, None), slice(104, 232, None)) DIAP_mov5Normal27shift[0, 0]\n",
      "(slice(79, 80, None), slice(407, 535, None), slice(2009, 2137, None)) DIAP_mov5Normal28shift[0, 0]\n",
      "(slice(83, 84, None), slice(854, 982, None), slice(1586, 1714, None)) DIAP_mov5Normal29shift[0, 0]\n",
      "(slice(52, 53, None), slice(1176, 1304, None), slice(2031, 2159, None)) DIAP_mov5Normal30shift[0, 0]\n",
      "(slice(52, 53, None), slice(321, 449, None), slice(1276, 1404, None)) DIAP_mov5Normal31shift[0, 0]\n",
      "(slice(84, 85, None), slice(1040, 1168, None), slice(1033, 1161, None)) DIAP_mov5Normal32shift[0, 0]\n",
      "(slice(85, 86, None), slice(1399, 1527, None), slice(1024, 1152, None)) DIAP_mov5Normal33shift[0, 0]\n",
      "(slice(85, 86, None), slice(1125, 1253, None), slice(1135, 1263, None)) DIAP_mov5Normal34shift[0, 0]\n",
      "(slice(85, 86, None), slice(544, 672, None), slice(1213, 1341, None)) DIAP_mov5Normal35shift[0, 0]\n",
      "(slice(55, 56, None), slice(762, 890, None), slice(1893, 2021, None)) DIAP_mov5Normal36shift[0, 0]\n",
      "(slice(89, 90, None), slice(947, 1075, None), slice(1840, 1968, None)) DIAP_mov5Normal37shift[0, 0]\n",
      "(slice(89, 90, None), slice(966, 1094, None), slice(1594, 1722, None)) DIAP_mov5Normal38shift[0, 0]\n",
      "(slice(92, 93, None), slice(904, 1032, None), slice(1819, 1947, None)) DIAP_mov5Normal39shift[0, 0]\n",
      "(slice(60, 61, None), slice(1109, 1237, None), slice(1875, 2003, None)) DIAP_mov5Normal40shift[0, 0]\n"
     ]
    }
   ],
   "source": [
    "MovieCreator.ImageLabelDataSet(ImageDir, SegImageDir, CSVDir,SaveDir, StaticName, StaticLabel, CSVNameDiff,crop_size, offset = offset)\n",
    "\n"
   ]
  },
  {
   "cell_type": "code",
   "execution_count": null,
   "metadata": {},
   "outputs": [],
   "source": []
  }
 ],
 "metadata": {
  "kernelspec": {
   "display_name": "Python 3",
   "language": "python",
   "name": "python3"
  },
  "language_info": {
   "codemirror_mode": {
    "name": "ipython",
    "version": 3
   },
   "file_extension": ".py",
   "mimetype": "text/x-python",
   "name": "python",
   "nbconvert_exporter": "python",
   "pygments_lexer": "ipython3",
   "version": "3.6.10"
  }
 },
 "nbformat": 4,
 "nbformat_minor": 4
}
