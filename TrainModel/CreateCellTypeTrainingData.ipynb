{
 "cells": [
  {
   "cell_type": "code",
   "execution_count": 1,
   "metadata": {},
   "outputs": [
    {
     "name": "stderr",
     "output_type": "stream",
     "text": [
      "Using TensorFlow backend.\n"
     ]
    }
   ],
   "source": [
    "import numpy as np\n",
    "from tifffile import imread \n",
    "import sys\n",
    "import os\n",
    "import cv2\n",
    "import glob\n",
    "from tqdm import tqdm\n",
    "import pandas as pd\n",
    "sys.path.append('../')\n",
    "from NEATUtils import MovieCreator\n",
    "from NEATUtils.helpers import save_json, load_json\n",
    "from NEATModels.TrainConfig import TrainConfig\n",
    "from pathlib import Path\n"
   ]
  },
  {
   "cell_type": "code",
   "execution_count": 2,
   "metadata": {},
   "outputs": [],
   "source": [
    "#Specify the directory containing images\n",
    "ImageDir = '/home/sancere/Kepler/FinalONEATTraining/NEATImages/'\n",
    "#Specify the directory contaiing csv files\n",
    "CSVDir = '/home/sancere/Kepler/FinalONEATTraining/NEATCSV/'\n",
    "#Specify the directory containing the segmentations\n",
    "SegImageDir = '/home/sancere/Kepler/FinalONEATTraining/NEATSegImages/'\n",
    "#Specify the model directory where we store the json of categories, training model and parameters\n",
    "ModelDir = '/home/sancere/Kepler/FinalONEATTraining/NEATModel/'\n",
    "#Directory for storing center ONEAT training data for static classes\n",
    "SaveDir = '/home/sancere/Kepler/FinalONEATTraining/StaticCenterTrainData/'\n",
    "Path(ModelDir).mkdir(exist_ok = True)\n",
    "\n"
   ]
  },
  {
   "cell_type": "code",
   "execution_count": 3,
   "metadata": {},
   "outputs": [],
   "source": [
    "#Name of the static events\n",
    "StaticName = [\"Normal\", \"MacroCheate\", \"NonMatureP1\", \"MatureP1\"]\n",
    "#Label corresponding to static event\n",
    "StaticLabel = [0, 1, 2, 3]\n",
    "\n",
    "#The name appended before the CSV files\n",
    "CSVNameDiff = 'ONEAT'\n"
   ]
  },
  {
   "cell_type": "code",
   "execution_count": 4,
   "metadata": {},
   "outputs": [],
   "source": [
    "#X Y static events\n",
    "crop_size = [124,124]\n",
    "\n",
    "#Vectors attached to each static event\n",
    "StaticCoordinateName = [\"X\", \"Y\", \"H\", \"W\", \"Conf\"]\n",
    "StaticCoordinateLabel = [0, 1, 2, 3, 4]\n",
    "\n"
   ]
  },
  {
   "cell_type": "code",
   "execution_count": 5,
   "metadata": {},
   "outputs": [],
   "source": [
    "\n",
    "\n",
    "StaticConfig = TrainConfig(StaticName, StaticLabel, StaticCoordinateName, StaticCoordinateLabel)\n",
    "\n",
    "Static_json, Static_Cord_json = StaticConfig.to_json()\n",
    "save_json(Static_json, ModelDir + \"StaticCategories\" + '.json')\n",
    "\n",
    "save_json(Static_Cord_json, ModelDir + \"StaticCord\" + '.json')\n"
   ]
  },
  {
   "cell_type": "markdown",
   "metadata": {},
   "source": [
    "# For center ONEAT, event is exactly in the center for all training examples"
   ]
  },
  {
   "cell_type": "code",
   "execution_count": null,
   "metadata": {
    "scrolled": false
   },
   "outputs": [
    {
     "name": "stdout",
     "output_type": "stream",
     "text": [
      "/home/sancere/Kepler/FinalONEATTraining/NEATCSV/ONEATDIAP_mov5Normal.csv\n",
      "(1417.206818181818, 1675.5636363636363)\n",
      "0.5287390029325508 0.5016678885630492\n",
      "(1010.9601593625498, 1909.8366533864541)\n",
      "0.539005269245598 0.4916141884076597\n",
      "(993.2868632707775, 1790.2439678284181)\n",
      "0.5342255470033721 0.5184424457320769\n",
      "(623.6678321678322, 1325.041958041958)\n",
      "0.5325964358222417 0.5134502594180017\n",
      "(1113.3417899929527, 2198.4559548978154)\n",
      "0.49561253949851164 0.4946918547818768\n",
      "(417.2608695652174, 1399.358695652174)\n",
      "0.5270862552594677 0.5182328190743337\n",
      "(1000.4723032069971, 1911.0641399416909)\n",
      "0.5166462898523458 0.4796153484435253\n",
      "(1265.2362637362637, 2026.9642857142858)\n",
      "0.5158410138248853 0.5180343849698686\n",
      "(1410.8214285714287, 1584.3428571428572)\n",
      "0.51889400921659 0.49855990783410215\n",
      "(1006.9308855291576, 2123.7494600431964)\n",
      "0.5141085487354552 0.4994426252351423\n"
     ]
    }
   ],
   "source": [
    "MovieCreator.ImageLabelDataSet(ImageDir, SegImageDir, CSVDir,SaveDir, StaticName, StaticLabel, CSVNameDiff,crop_size)\n",
    "\n"
   ]
  },
  {
   "cell_type": "code",
   "execution_count": null,
   "metadata": {},
   "outputs": [],
   "source": []
  }
 ],
 "metadata": {
  "kernelspec": {
   "display_name": "Python 3",
   "language": "python",
   "name": "python3"
  },
  "language_info": {
   "codemirror_mode": {
    "name": "ipython",
    "version": 3
   },
   "file_extension": ".py",
   "mimetype": "text/x-python",
   "name": "python",
   "nbconvert_exporter": "python",
   "pygments_lexer": "ipython3",
   "version": "3.6.10"
  }
 },
 "nbformat": 4,
 "nbformat_minor": 4
}
