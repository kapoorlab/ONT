{
 "cells": [
  {
   "cell_type": "code",
   "execution_count": 1,
   "metadata": {},
   "outputs": [
    {
     "name": "stderr",
     "output_type": "stream",
     "text": [
      "Using TensorFlow backend.\n"
     ]
    }
   ],
   "source": [
    "import numpy as np\n",
    "from tifffile import imread \n",
    "import sys\n",
    "import os\n",
    "import cv2\n",
    "from glob import glob\n",
    "from tqdm import tqdm\n",
    "import pandas as pd\n",
    "sys.path.append('../')\n",
    "from NEATUtils import MovieCreator\n",
    "from NEATUtils.helpers import save_json, load_json\n",
    "from NEATModels.TrainConfig import TrainConfig\n",
    "from pathlib import Path\n"
   ]
  },
  {
   "cell_type": "code",
   "execution_count": 2,
   "metadata": {},
   "outputs": [],
   "source": [
    "#Specify the directory containing image and segmentation image used for making the csv file\n",
    "SourceDir = '/home/kapoorlab/CSVforNeat/NEATcsvfiles/'\n",
    "#Specify the model directory where we store the json of categories, training model and parameters\n",
    "ModelDir = '/home/kapoorlab/NEATModel/'\n",
    "#Directory for storing center ONEAT training data for static classes\n",
    "StaticCenterTrainDataDir = '/home/kapoorlab/StaticCenterTrainData/'\n",
    "\n",
    "#Raw Movie name corresponding to the csv file\n",
    "MovieName = 'EventMovie'\n",
    "#Segmentation Movie name corresponding to the csv file\n",
    "SegMovieName = 'SegEventMovie'\n",
    "\n",
    "#Names of the csv file begin as MovieName + EventName + csv, if any other please change the lines below\n",
    "NormalCSV = SourceDir + 'ONEAT' + MovieName +'Normal.csv'\n",
    "MacrocheateCSV = SourceDir + 'ONEAT' + MovieName +'MacroCheate.csv'\n",
    "NonMatureCSV = SourceDir + 'ONEAT' + MovieName +'Mature.csv'\n",
    "MatureCSV = SourceDir + 'ONEAT' + MovieName +'Mature.csv'\n",
    "\n"
   ]
  },
  {
   "cell_type": "code",
   "execution_count": 3,
   "metadata": {},
   "outputs": [],
   "source": [
    "#Reading images and creating directories\n",
    "SourceImage = imread(SourceDir + MovieName + '.tif')\n",
    "SegmentationImage = imread(SourceDir + SegMovieName + '.tif')\n",
    "Path(StaticCenterTrainDataDir).mkdir(exist_ok = True)\n",
    "Path(ModelDir).mkdir(exist_ok = True)"
   ]
  },
  {
   "cell_type": "code",
   "execution_count": 7,
   "metadata": {},
   "outputs": [],
   "source": [
    "#X Y Tminus and Tplus for making image volumes for dynamic and static events\n",
    "crop_sizeM4 = [124,124]\n",
    "\n",
    "static_crop_size = [crop_sizeM4[0], crop_sizeM4[1]]\n",
    "\n",
    "#We only support training grids of 1 by 1 for yolo in time \n",
    "gridX = 1\n",
    "gridY = 1\n",
    "#Name of the static events\n",
    "StaticName = [\"Normal\", \"Macrocheate\", \"NonMature\", \"Mature\"]\n",
    "#Vectors attached to each static event\n",
    "StaticCoordinateName = [\"X\", \"Y\", \"H\", \"W\", \"Conf\"]\n",
    "StaticCoordinateLabel = [0, 1, 2, 3, 4]\n",
    "#Label corresponding to static event\n",
    "StaticEventTrain = [0, 1, 2, 3]\n"
   ]
  },
  {
   "cell_type": "code",
   "execution_count": 9,
   "metadata": {},
   "outputs": [
    {
     "name": "stdout",
     "output_type": "stream",
     "text": [
      "Categories for action training 3\n",
      "Categories for static training 4\n"
     ]
    }
   ],
   "source": [
    "StaticEventCSV = [NormalCSV, MacrocheateCSV,NonMatureCSV,MatureCSV]\n",
    "\n",
    "TotalStaticCategories = len(StaticEventCSV)\n",
    "print('Categories for static training', TotalStaticCategories)\n",
    "\n",
    "StaticConfig = TrainConfig(StaticName, StaticEventTrain, StaticCoordinateName, StaticCoordinateLabel)\n",
    "\n",
    "Static_json, Static_Cord_json = StaticConfig.to_json()\n",
    "save_json(Static_json, ModelDir + \"StaticCategories\" + '.json')\n",
    "\n",
    "save_json(Static_Cord_json, ModelDir + \"StaticCord\" + '.json')\n"
   ]
  },
  {
   "cell_type": "markdown",
   "metadata": {},
   "source": [
    "# For center ONEAT, event is exactly in the center for all training examples"
   ]
  },
  {
   "cell_type": "code",
   "execution_count": null,
   "metadata": {},
   "outputs": [],
   "source": [
    "for i in range(TotalStaticCategories):\n",
    "     csv_file = StaticEventCSV[i]\n",
    "     trainlabel = StaticEventTrain[i] \n",
    "     MovieCreator.CreateTrainingImages(csv_file, SourceImage, SegmentationImage, static_crop_size, TotalStaticCategories, trainlabel, StaticCenterTrainDataDir, gridX = gridX, gridY = gridY)   "
   ]
  }
 ],
 "metadata": {
  "kernelspec": {
   "display_name": "Python 3",
   "language": "python",
   "name": "python3"
  },
  "language_info": {
   "codemirror_mode": {
    "name": "ipython",
    "version": 3
   },
   "file_extension": ".py",
   "mimetype": "text/x-python",
   "name": "python",
   "nbconvert_exporter": "python",
   "pygments_lexer": "ipython3",
   "version": "3.6.10"
  }
 },
 "nbformat": 4,
 "nbformat_minor": 4
}
