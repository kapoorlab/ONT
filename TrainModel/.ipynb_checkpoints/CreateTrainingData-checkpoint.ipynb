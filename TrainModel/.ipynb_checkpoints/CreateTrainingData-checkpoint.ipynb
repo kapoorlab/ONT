{
 "cells": [
  {
   "cell_type": "code",
   "execution_count": null,
   "metadata": {},
   "outputs": [],
   "source": [
    "import numpy as np\n",
    "from tifffile import imread \n",
    "import sys\n",
    "import os\n",
    "import cv2\n",
    "from glob import glob\n",
    "from tqdm import tqdm\n",
    "sys.path.append(\"../NEAT\")\n",
    "from NEATUtils import MovieCreator\n",
    "try:\n",
    "    from pathlib import Path\n",
    "    Path().expanduser()\n",
    "except (ImportError,AttributeError):\n",
    "    from pathlib2 import Path\n",
    "\n",
    "try:\n",
    "    import tempfile\n",
    "    tempfile.TemporaryDirectory\n",
    "except (ImportError,AttributeError):\n",
    "    from backports import tempfile"
   ]
  },
  {
   "cell_type": "code",
   "execution_count": null,
   "metadata": {},
   "outputs": [],
   "source": [
    "###### Specify the image used for making the csv file\n",
    "SourceDir = '/data/u934/service_imagerie/v_kapoor/CSVforNeat/YolONEAT/TrainCSV/'\n",
    "\n",
    "CenterTrainDataDir = '/data/u934/service_imagerie/v_kapoor/CSVforNeat/YolONEAT/CenterTrainData/'\n",
    "GenericTrainDataDir = '/data/u934/service_imagerie/v_kapoor/CSVforNeat/YolONEAT/GenericTrainData/'\n",
    "\n",
    "StaticCenterTrainDataDir = '/data/u934/service_imagerie/v_kapoor/CSVforNeat/YolONEAT/StaticCenterTrainData/'\n",
    "StaticGenericTrainDataDir = '/data/u934/service_imagerie/v_kapoor/CSVforNeat/YolONEAT/StaticGenericTrainData/'\n",
    "\n",
    "MovieName = 'EventMovie'\n",
    "SegMovieName = 'SegEventMovie'\n",
    "SourceImage = imread(SourceDir + MovieName + '.tif')\n",
    "SegmentationImage = imread(SourceDir + SegMovieName + '.tif')\n",
    "\n",
    "NormalCSV = SourceDir + MovieName +'Normal.csv'\n",
    "ApoptosisCSV = SourceDir + MovieName +'Apoptosis.csv'\n",
    "DivisionCSV = SourceDir + MovieName +'Division.csv'\n",
    "MacrocheateCSV = SourceDir + MovieName +'MacroKitty.csv'\n",
    "NonMatureCSV = SourceDir + MovieName +'NonMature.csv'\n",
    "MatureCSV = SourceDir + MovieName +'Mature.csv'"
   ]
  },
  {
   "cell_type": "code",
   "execution_count": null,
   "metadata": {},
   "outputs": [],
   "source": [
    "#X Y Tminus and Tplus for making image volumes\n",
    "crop_size = [256,256,5,3]\n",
    "static_crop_size = [crop_size[0], crop_size[1]]\n",
    "SizeX = crop_size[0]\n",
    "SizeY = crop_size[1]\n",
    "gridX = 1\n",
    "gridY = 1\n",
    "TotalCategories = 6\n",
    "\n",
    "#For creating trainng data with shifted events, centerONEAT does not use this offset\n",
    "offset = 10"
   ]
  },
  {
   "cell_type": "code",
   "execution_count": null,
   "metadata": {},
   "outputs": [],
   "source": [
    "EventCSV = [NormalCSV, ApoptosisCSV, DivisionCSV,MacrocheateCSV,NonMatureCSV,MatureCSV]\n",
    "EventTrain = [0, 1, 2, 3, 4, 5]\n",
    "TotalCategories = len(EventCSV)\n",
    "print('Categories for training', TotalCategories)"
   ]
  },
  {
   "cell_type": "markdown",
   "metadata": {},
   "source": [
    "# For center ONEAT, event is exactly in the center for all training examples"
   ]
  },
  {
   "cell_type": "code",
   "execution_count": null,
   "metadata": {},
   "outputs": [],
   "source": [
    "for i in range(TotalCategories):\n",
    "     csv_file = EventCSV[i]\n",
    "     trainlabel = EventTrain[i]   \n",
    "     MovieCreator.CreateTrainingMovies(csv_file, SourceImage, SegmentationImage, crop_size, TotalCategories, trainlabel, CenterTrainDataDir, gridX = gridX, gridY = gridY)\n",
    "     MovieCreator.CreateTrainingImages(csv_file, SourceImage, SegmentationImage, static_crop_size, TotalCategories, trainlabel, StaticCenterTrainDataDir, gridX = gridX, gridY = gridY)   "
   ]
  },
  {
   "cell_type": "markdown",
   "metadata": {},
   "source": [
    "# For non-center ONEAT we shift the training event by offset pixels"
   ]
  },
  {
   "cell_type": "code",
   "execution_count": null,
   "metadata": {},
   "outputs": [],
   "source": [
    "\n",
    "for i in range(TotalCategories):\n",
    "     csv_file = EventCSV[i]\n",
    "     trainlabel = EventTrain[i]   \n",
    "     MovieCreator.CreateTrainingMovies(csv_file, SourceImage, SegmentationImage, crop_size, TotalCategories, trainlabel, GenericTrainDataDir, gridX = gridX, gridY = gridY, offset = offset)\n",
    "     MovieCreator.CreateTrainingImages(csv_file, SourceImage, SegmentationImage, static_crop_size, TotalCategories, trainlabel, StaticGenericTrainDataDir, gridX = gridX, gridY = gridY, offset = offset)      "
   ]
  },
  {
   "cell_type": "code",
   "execution_count": null,
   "metadata": {},
   "outputs": [],
   "source": []
  }
 ],
 "metadata": {
  "kernelspec": {
   "display_name": "Python 3",
   "language": "python",
   "name": "python3"
  },
  "language_info": {
   "codemirror_mode": {
    "name": "ipython",
    "version": 3
   },
   "file_extension": ".py",
   "mimetype": "text/x-python",
   "name": "python",
   "nbconvert_exporter": "python",
   "pygments_lexer": "ipython3",
   "version": "3.8.5"
  }
 },
 "nbformat": 4,
 "nbformat_minor": 4
}
