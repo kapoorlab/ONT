{
 "cells": [
  {
   "cell_type": "code",
   "execution_count": 17,
   "metadata": {},
   "outputs": [],
   "source": [
    "import numpy as np\n",
    "from tifffile import imread \n",
    "import sys\n",
    "import os\n",
    "import cv2\n",
    "from glob import glob\n",
    "from tqdm import tqdm\n",
    "import pandas as pd\n",
    "sys.path.append('../')\n",
    "from NEATUtils import MovieCreator\n",
    "from NEATUtils.helpers import save_json, load_json\n",
    "from NEATModels.TrainConfig import TrainConfig\n",
    "try:\n",
    "    from pathlib import Path\n",
    "    Path().expanduser()\n",
    "except (ImportError,AttributeError):\n",
    "    from pathlib2 import Path\n",
    "\n",
    "try:\n",
    "    import tempfile\n",
    "    tempfile.TemporaryDirectory\n",
    "except (ImportError,AttributeError):\n",
    "    from backports import tempfile"
   ]
  },
  {
   "cell_type": "code",
   "execution_count": 2,
   "metadata": {},
   "outputs": [],
   "source": [
    "###### Specify the image used for making the csv file\n",
    "SourceDir = '/home/kapoorlab/CSVforNeat/NEATcsvfiles/'\n",
    "\n",
    "CenterTrainDataDir = '/home/kapoorlab/CSVforNeat/NEATcsvfiles/CenterTrainData/'\n",
    "GenericTrainDataDir = '/home/kapoorlab/CSVforNeat/NEATcsvfiles/GenericTrainData/'\n",
    "\n",
    "StaticCenterTrainDataDir = '/home/kapoorlab/CSVforNeat/NEATcsvfiles/StaticCenterTrainData/'\n",
    "StaticGenericTrainDataDir = '/home/kapoorlab/CSVforNeat/NEATcsvfiles/StaticGenericTrainData/'\n",
    "Path(StaticCenterTrainDataDir).mkdir(exist_ok = True)\n",
    "Path(StaticGenericTrainDataDir).mkdir(exist_ok = True)\n",
    "MovieName = 'EventMovie'\n",
    "SegMovieName = 'SegEventMovie'\n",
    "SourceImage = imread(SourceDir + MovieName + '.tif')\n",
    "SegmentationImage = imread(SourceDir + SegMovieName + '.tif')\n",
    "\n",
    "NormalCSV = SourceDir + MovieName +'Normal.csv'\n",
    "ApoptosisCSV = SourceDir + MovieName +'Apoptosis.csv'\n",
    "DivisionCSV = SourceDir + MovieName +'Division.csv'\n",
    "MacrocheateCSV = SourceDir + MovieName +'MacroKitty.csv'\n",
    "NonMatureCSV = SourceDir + MovieName +'Mature.csv'\n",
    "MatureCSV = SourceDir + MovieName +'Mature.csv'"
   ]
  },
  {
   "cell_type": "code",
   "execution_count": 4,
   "metadata": {},
   "outputs": [],
   "source": [
    "#X Y Tminus and Tplus for making image volumes\n",
    "crop_sizeM4 = [124,124,4,5]\n",
    "crop_sizeM5 = [124,124,5,4]\n",
    "static_crop_size = [crop_sizeM4[0], crop_sizeM4[1]]\n",
    "SizeX = crop_sizeM4[0]\n",
    "SizeY = crop_sizeM4[1]\n",
    "gridX = 1\n",
    "gridY = 1\n",
    "ActionCategories = 3\n",
    "StaticCategories = 4\n"
   ]
  },
  {
   "cell_type": "code",
   "execution_count": 7,
   "metadata": {},
   "outputs": [
    {
     "name": "stdout",
     "output_type": "stream",
     "text": [
      "Categories for action training 3\n",
      "Categories for static training 4\n"
     ]
    }
   ],
   "source": [
    "ActionEventCSV = [NormalCSV, ApoptosisCSV, DivisionCSV]\n",
    "StaticEventCSV = [NormalCSV, MacrocheateCSV,NonMatureCSV,MatureCSV]\n",
    "ActionName = [\"Normal\", \"Apoptosis\", \"Division\"]\n",
    "StaticName = [\"Normal\", \"Macrocheate\", \"NonMature\", \"Mature\"]\n",
    "ActionEventTrain = [0, 1, 2]\n",
    "StaticEventTrain = [0, 1, 2, 3]\n",
    "TotalActionCategories = len(ActionEventCSV)\n",
    "TotalStaticCategories = len(StaticEventCSV)\n",
    "print('Categories for action training', TotalActionCategories)\n",
    "print('Categories for static training', TotalStaticCategories)\n",
    "ActionConfig = TrainConfig(ActionName, ActionEventTrain)\n",
    "StaticConfig = TrainConfig(StaticName, StaticEventTrain)\n",
    "Action_json = ActionConfig.to_json()\n",
    "Static_json = StaticConfig.to_json()\n",
    "save_json(Action_json, SourceDir + \"ActionCategories\" + '.json')\n",
    "save_json(Static_json, SourceDir + \"StaticCategories\" + '.json')"
   ]
  },
  {
   "cell_type": "code",
   "execution_count": 24,
   "metadata": {},
   "outputs": [
    {
     "name": "stdout",
     "output_type": "stream",
     "text": [
      "Key: Normal\n",
      "Value: 0\n",
      "Key: Macrocheate\n",
      "Value: 1\n",
      "Key: NonMature\n",
      "Value: 2\n",
      "Key: Mature\n",
      "Value: 3\n"
     ]
    }
   ],
   "source": [
    "Json = '/home/kapoorlab/CSVforNeat/NEATcsvfiles/StaticCategories.json'\n",
    "Readjson = load_json(Json)\n",
    "for (k, v) in Readjson.items():\n",
    "   print(\"Key: \" + k)\n",
    "   print(\"Value: \" + str(v))"
   ]
  },
  {
   "cell_type": "markdown",
   "metadata": {},
   "source": [
    "# For center ONEAT, event is exactly in the center for all training examples"
   ]
  },
  {
   "cell_type": "code",
   "execution_count": null,
   "metadata": {},
   "outputs": [],
   "source": [
    "defname = \"MinusFour\"\n",
    "for i in range(TotalActionCategories):\n",
    "     csv_file = ActionEventCSV[i]\n",
    "     trainlabel = ActionEventTrain[i]   \n",
    "     MovieCreator.CreateTrainingMovies(csv_file, SourceImage, SegmentationImage, crop_sizeM4, TotalActionCategories, trainlabel, CenterTrainDataDir, gridX = gridX, gridY = gridY, defname = defname)\n"
   ]
  },
  {
   "cell_type": "code",
   "execution_count": null,
   "metadata": {},
   "outputs": [],
   "source": [
    "defname = \"MinusFive\"\n",
    "for i in range(TotalActionCategories):\n",
    "     csv_file = ActionEventCSV[i]\n",
    "     trainlabel = ActionEventTrain[i]   \n",
    "     MovieCreator.CreateTrainingMovies(csv_file, SourceImage, SegmentationImage, crop_sizeM5, TotalActionCategories, trainlabel, CenterTrainDataDir, gridX = gridX, gridY = gridY, defname = defname)\n"
   ]
  },
  {
   "cell_type": "code",
   "execution_count": null,
   "metadata": {},
   "outputs": [],
   "source": [
    "for i in range(TotalStaticCategories):\n",
    "     csv_file = StaticEventCSV[i]\n",
    "     trainlabel = StaticEventTrain[i] \n",
    "     MovieCreator.CreateTrainingImages(csv_file, SourceImage, SegmentationImage, static_crop_size, TotalStaticCategories, trainlabel, StaticCenterTrainDataDir, gridX = gridX, gridY = gridY)   "
   ]
  }
 ],
 "metadata": {
  "kernelspec": {
   "display_name": "Python 3",
   "language": "python",
   "name": "python3"
  },
  "language_info": {
   "codemirror_mode": {
    "name": "ipython",
    "version": 3
   },
   "file_extension": ".py",
   "mimetype": "text/x-python",
   "name": "python",
   "nbconvert_exporter": "python",
   "pygments_lexer": "ipython3",
   "version": "3.8.5"
  }
 },
 "nbformat": 4,
 "nbformat_minor": 4
}
