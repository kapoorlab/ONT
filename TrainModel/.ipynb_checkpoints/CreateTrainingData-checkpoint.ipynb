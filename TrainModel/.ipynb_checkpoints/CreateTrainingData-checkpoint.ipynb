{
 "cells": [
  {
   "cell_type": "code",
   "execution_count": 17,
   "metadata": {},
   "outputs": [],
   "source": [
    "import numpy as np\n",
    "from tifffile import imread \n",
    "import sys\n",
    "import os\n",
    "import cv2\n",
    "from glob import glob\n",
    "from tqdm import tqdm\n",
    "import pandas as pd\n",
    "sys.path.append('../')\n",
    "from NEATUtils import MovieCreator\n",
    "from NEATUtils.helpers import save_json, load_json\n",
    "from NEATModels.TrainConfig import TrainConfig\n",
    "from pathlib import Path\n"
   ]
  },
  {
   "cell_type": "code",
   "execution_count": 2,
   "metadata": {},
   "outputs": [],
   "source": [
    "#Specify the directory containing image and segmentation image used for making the csv file\n",
    "SourceDir = '/home/kapoorlab/CSVforNeat/NEATcsvfiles/'\n",
    "#Specify the model directory where we store the json of categories, training model and parameters\n",
    "ModelDir = '/home/kapoorlab/NEATModel/'\n",
    "#Directory for storing center ONEAT training data for action events\n",
    "CenterTrainDataDir = '/home/kapoorlab/CenterTrainData/'\n",
    "#Directory for storing center ONEAT training data for static classes\n",
    "StaticCenterTrainDataDir = '/home/kapoorlab/StaticCenterTrainData/'\n",
    "\n",
    "#Raw Movie name corresponding to the csv file\n",
    "MovieName = 'EventMovie'\n",
    "#Segmentation Movie name corresponding to the csv file\n",
    "SegMovieName = 'SegEventMovie'\n",
    "\n",
    "#Names of the csv file begin as MovieName + EventName + csv, if any other please change the lines below\n",
    "NormalCSV = SourceDir + MovieName +'Normal.csv'\n",
    "ApoptosisCSV = SourceDir + MovieName +'Apoptosis.csv'\n",
    "DivisionCSV = SourceDir + MovieName +'Division.csv'\n",
    "MacrocheateCSV = SourceDir + MovieName +'MacroKitty.csv'\n",
    "NonMatureCSV = SourceDir + MovieName +'Mature.csv'\n",
    "MatureCSV = SourceDir + MovieName +'Mature.csv'\n",
    "\n"
   ]
  },
  {
   "cell_type": "code",
   "execution_count": null,
   "metadata": {},
   "outputs": [],
   "source": [
    "#Reading images and creating directories\n",
    "SourceImage = imread(SourceDir + MovieName + '.tif')\n",
    "SegmentationImage = imread(SourceDir + SegMovieName + '.tif')\n",
    "Path(CenterTrainDataDir).mkdir(exist_ok = True)\n",
    "Path(StaticCenterTrainDataDir).mkdir(exist_ok = True)\n",
    "Path(ModelDir).mkdir(exist_ok = True)"
   ]
  },
  {
   "cell_type": "code",
   "execution_count": 4,
   "metadata": {},
   "outputs": [],
   "source": [
    "#X Y Tminus and Tplus for making image volumes for dynamic and static events\n",
    "crop_sizeM4 = [124,124,4,5]\n",
    "crop_sizeM5 = [124,124,5,4]\n",
    "\n",
    "static_crop_size = [crop_sizeM4[0], crop_sizeM4[1]]\n",
    "SizeX = crop_sizeM4[0]\n",
    "SizeY = crop_sizeM4[1]\n",
    "\n",
    "#We only support training grids of 1 by 1 for yolo in time \n",
    "gridX = 1\n",
    "gridY = 1\n",
    "#Name of the action events\n",
    "ActionName = [\"Normal\", \"Apoptosis\", \"Division\"]\n",
    "#Name of the static events\n",
    "StaticName = [\"Normal\", \"Macrocheate\", \"NonMature\", \"Mature\"]\n",
    "#Label corresponding to the action event\n",
    "ActionEventTrain = [0, 1, 2]\n",
    "#Label corresponding to static event\n",
    "StaticEventTrain = [0, 1, 2, 3]\n"
   ]
  },
  {
   "cell_type": "code",
   "execution_count": 7,
   "metadata": {},
   "outputs": [
    {
     "name": "stdout",
     "output_type": "stream",
     "text": [
      "Categories for action training 3\n",
      "Categories for static training 4\n"
     ]
    }
   ],
   "source": [
    "ActionEventCSV = [NormalCSV, ApoptosisCSV, DivisionCSV]\n",
    "StaticEventCSV = [NormalCSV, MacrocheateCSV,NonMatureCSV,MatureCSV]\n",
    "\n",
    "TotalActionCategories = len(ActionEventCSV)\n",
    "TotalStaticCategories = len(StaticEventCSV)\n",
    "print('Categories for action training', TotalActionCategories)\n",
    "print('Categories for static training', TotalStaticCategories)\n",
    "ActionConfig = TrainConfig(ActionName, ActionEventTrain)\n",
    "StaticConfig = TrainConfig(StaticName, StaticEventTrain)\n",
    "Action_json = ActionConfig.to_json()\n",
    "Static_json = StaticConfig.to_json()\n",
    "save_json(Action_json, ModelDir + \"ActionCategories\" + '.json')\n",
    "save_json(Static_json, ModelDir + \"StaticCategories\" + '.json')"
   ]
  },
  {
   "cell_type": "markdown",
   "metadata": {},
   "source": [
    "# For center ONEAT, event is exactly in the center for all training examples"
   ]
  },
  {
   "cell_type": "code",
   "execution_count": null,
   "metadata": {},
   "outputs": [],
   "source": [
    "defname = \"MinusFour\"\n",
    "for i in range(TotalActionCategories):\n",
    "     csv_file = ActionEventCSV[i]\n",
    "     trainlabel = ActionEventTrain[i]   \n",
    "     MovieCreator.CreateTrainingMovies(csv_file, SourceImage, SegmentationImage, crop_sizeM4, TotalActionCategories, trainlabel, CenterTrainDataDir, gridX = gridX, gridY = gridY, defname = defname)\n"
   ]
  },
  {
   "cell_type": "code",
   "execution_count": null,
   "metadata": {},
   "outputs": [],
   "source": [
    "defname = \"MinusFive\"\n",
    "for i in range(TotalActionCategories):\n",
    "     csv_file = ActionEventCSV[i]\n",
    "     trainlabel = ActionEventTrain[i]   \n",
    "     MovieCreator.CreateTrainingMovies(csv_file, SourceImage, SegmentationImage, crop_sizeM5, TotalActionCategories, trainlabel, CenterTrainDataDir, gridX = gridX, gridY = gridY, defname = defname)\n"
   ]
  },
  {
   "cell_type": "code",
   "execution_count": null,
   "metadata": {},
   "outputs": [],
   "source": [
    "for i in range(TotalStaticCategories):\n",
    "     csv_file = StaticEventCSV[i]\n",
    "     trainlabel = StaticEventTrain[i] \n",
    "     MovieCreator.CreateTrainingImages(csv_file, SourceImage, SegmentationImage, static_crop_size, TotalStaticCategories, trainlabel, StaticCenterTrainDataDir, gridX = gridX, gridY = gridY)   "
   ]
  }
 ],
 "metadata": {
  "kernelspec": {
   "display_name": "Python 3",
   "language": "python",
   "name": "python3"
  },
  "language_info": {
   "codemirror_mode": {
    "name": "ipython",
    "version": 3
   },
   "file_extension": ".py",
   "mimetype": "text/x-python",
   "name": "python",
   "nbconvert_exporter": "python",
   "pygments_lexer": "ipython3",
   "version": "3.8.5"
  }
 },
 "nbformat": 4,
 "nbformat_minor": 4
}
