{
 "cells": [
  {
   "cell_type": "code",
   "execution_count": 2,
   "metadata": {},
   "outputs": [
    {
     "name": "stdout",
     "output_type": "stream",
     "text": [
      "Collecting opencv-python\n",
      "  Using cached opencv_python-4.4.0.46-cp38-cp38-manylinux2014_x86_64.whl (49.5 MB)\n",
      "Requirement already satisfied: numpy>=1.17.3 in /home/kapoorlab/anaconda3/lib/python3.8/site-packages (from opencv-python) (1.18.5)\n",
      "Installing collected packages: opencv-python\n",
      "Successfully installed opencv-python-4.4.0.46\n"
     ]
    },
    {
     "ename": "ModuleNotFoundError",
     "evalue": "No module named 'NEATUtils'",
     "output_type": "error",
     "traceback": [
      "\u001b[0;31m---------------------------------------------------------------------------\u001b[0m",
      "\u001b[0;31mModuleNotFoundError\u001b[0m                       Traceback (most recent call last)",
      "\u001b[0;32m<ipython-input-2-07d31dfc15b0>\u001b[0m in \u001b[0;36m<module>\u001b[0;34m\u001b[0m\n\u001b[1;32m      8\u001b[0m \u001b[0;32mfrom\u001b[0m \u001b[0mtqdm\u001b[0m \u001b[0;32mimport\u001b[0m \u001b[0mtqdm\u001b[0m\u001b[0;34m\u001b[0m\u001b[0;34m\u001b[0m\u001b[0m\n\u001b[1;32m      9\u001b[0m \u001b[0;34m\u001b[0m\u001b[0m\n\u001b[0;32m---> 10\u001b[0;31m \u001b[0;32mfrom\u001b[0m \u001b[0mNEATUtils\u001b[0m \u001b[0;32mimport\u001b[0m \u001b[0mMovieCreator\u001b[0m\u001b[0;34m\u001b[0m\u001b[0;34m\u001b[0m\u001b[0m\n\u001b[0m\u001b[1;32m     11\u001b[0m \u001b[0;32mtry\u001b[0m\u001b[0;34m:\u001b[0m\u001b[0;34m\u001b[0m\u001b[0;34m\u001b[0m\u001b[0m\n\u001b[1;32m     12\u001b[0m     \u001b[0;32mfrom\u001b[0m \u001b[0mpathlib\u001b[0m \u001b[0;32mimport\u001b[0m \u001b[0mPath\u001b[0m\u001b[0;34m\u001b[0m\u001b[0;34m\u001b[0m\u001b[0m\n",
      "\u001b[0;31mModuleNotFoundError\u001b[0m: No module named 'NEATUtils'"
     ]
    }
   ],
   "source": [
    "import numpy as np\n",
    "from tifffile import imread \n",
    "import sys\n",
    "import os\n",
    "import cv2\n",
    "from glob import glob\n",
    "from tqdm import tqdm\n",
    "sys.path.append('../')\n",
    "from NEATUtils import MovieCreator\n",
    "try:\n",
    "    from pathlib import Path\n",
    "    Path().expanduser()\n",
    "except (ImportError,AttributeError):\n",
    "    from pathlib2 import Path\n",
    "\n",
    "try:\n",
    "    import tempfile\n",
    "    tempfile.TemporaryDirectory\n",
    "except (ImportError,AttributeError):\n",
    "    from backports import tempfile"
   ]
  },
  {
   "cell_type": "code",
   "execution_count": null,
   "metadata": {},
   "outputs": [],
   "source": [
    "###### Specify the image used for making the csv file\n",
    "SourceDir = '/data/u934/service_imagerie/v_kapoor/CSVforNeat/YolONEAT/TrainCSV/'\n",
    "\n",
    "CenterTrainDataDir = '/data/u934/service_imagerie/v_kapoor/CSVforNeat/YolONEAT/CenterTrainData/'\n",
    "GenericTrainDataDir = '/data/u934/service_imagerie/v_kapoor/CSVforNeat/YolONEAT/GenericTrainData/'\n",
    "\n",
    "StaticCenterTrainDataDir = '/data/u934/service_imagerie/v_kapoor/CSVforNeat/YolONEAT/StaticCenterTrainData/'\n",
    "StaticGenericTrainDataDir = '/data/u934/service_imagerie/v_kapoor/CSVforNeat/YolONEAT/StaticGenericTrainData/'\n",
    "\n",
    "MovieName = 'EventMovie'\n",
    "SegMovieName = 'SegEventMovie'\n",
    "SourceImage = imread(SourceDir + MovieName + '.tif')\n",
    "SegmentationImage = imread(SourceDir + SegMovieName + '.tif')\n",
    "\n",
    "NormalCSV = SourceDir + MovieName +'Normal.csv'\n",
    "ApoptosisCSV = SourceDir + MovieName +'Apoptosis.csv'\n",
    "DivisionCSV = SourceDir + MovieName +'Division.csv'\n",
    "MacrocheateCSV = SourceDir + MovieName +'MacroKitty.csv'\n",
    "NonMatureCSV = SourceDir + MovieName +'NonMature.csv'\n",
    "MatureCSV = SourceDir + MovieName +'Mature.csv'"
   ]
  },
  {
   "cell_type": "code",
   "execution_count": null,
   "metadata": {},
   "outputs": [],
   "source": [
    "#X Y Tminus and Tplus for making image volumes\n",
    "crop_size = [124,124,4,5]\n",
    "static_crop_size = [crop_size[0], crop_size[1]]\n",
    "SizeX = crop_size[0]\n",
    "SizeY = crop_size[1]\n",
    "gridX = 1\n",
    "gridY = 1\n",
    "TotalCategories = 6\n",
    "\n",
    "#For creating trainng data with shifted events, centerONEAT does not use this offset\n",
    "offset = 10"
   ]
  },
  {
   "cell_type": "code",
   "execution_count": null,
   "metadata": {},
   "outputs": [],
   "source": [
    "EventCSV = [NormalCSV, ApoptosisCSV, DivisionCSV,MacrocheateCSV,NonMatureCSV,MatureCSV]\n",
    "EventTrain = [0, 1, 2, 3, 4, 5]\n",
    "TotalCategories = len(EventCSV)\n",
    "print('Categories for training', TotalCategories)"
   ]
  },
  {
   "cell_type": "markdown",
   "metadata": {},
   "source": [
    "# For center ONEAT, event is exactly in the center for all training examples"
   ]
  },
  {
   "cell_type": "code",
   "execution_count": null,
   "metadata": {},
   "outputs": [],
   "source": [
    "for i in range(TotalCategories):\n",
    "     csv_file = EventCSV[i]\n",
    "     trainlabel = EventTrain[i]   \n",
    "     MovieCreator.CreateTrainingMovies(csv_file, SourceImage, SegmentationImage, crop_size, TotalCategories, trainlabel, CenterTrainDataDir, gridX = gridX, gridY = gridY)\n",
    "     MovieCreator.CreateTrainingImages(csv_file, SourceImage, SegmentationImage, static_crop_size, TotalCategories, trainlabel, StaticCenterTrainDataDir, gridX = gridX, gridY = gridY)   "
   ]
  },
  {
   "cell_type": "markdown",
   "metadata": {},
   "source": [
    "# For non-center ONEAT we shift the training event by offset pixels (Optional)"
   ]
  },
  {
   "cell_type": "code",
   "execution_count": null,
   "metadata": {},
   "outputs": [],
   "source": [
    "\n",
    "for i in range(TotalCategories):\n",
    "     csv_file = EventCSV[i]\n",
    "     trainlabel = EventTrain[i]   \n",
    "     MovieCreator.CreateTrainingMovies(csv_file, SourceImage, SegmentationImage, crop_size, TotalCategories, trainlabel, GenericTrainDataDir, gridX = gridX, gridY = gridY, offset = offset)\n",
    "     MovieCreator.CreateTrainingImages(csv_file, SourceImage, SegmentationImage, static_crop_size, TotalCategories, trainlabel, StaticGenericTrainDataDir, gridX = gridX, gridY = gridY, offset = offset)      "
   ]
  },
  {
   "cell_type": "code",
   "execution_count": null,
   "metadata": {},
   "outputs": [],
   "source": []
  }
 ],
 "metadata": {
  "kernelspec": {
   "display_name": "Python 3",
   "language": "python",
   "name": "python3"
  },
  "language_info": {
   "codemirror_mode": {
    "name": "ipython",
    "version": 3
   },
   "file_extension": ".py",
   "mimetype": "text/x-python",
   "name": "python",
   "nbconvert_exporter": "python",
   "pygments_lexer": "ipython3",
   "version": "3.8.3"
  }
 },
 "nbformat": 4,
 "nbformat_minor": 4
}
