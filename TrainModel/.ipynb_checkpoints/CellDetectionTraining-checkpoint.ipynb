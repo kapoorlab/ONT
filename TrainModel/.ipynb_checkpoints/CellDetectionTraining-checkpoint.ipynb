{
 "cells": [
  {
   "cell_type": "code",
   "execution_count": 1,
   "metadata": {},
   "outputs": [
    {
     "name": "stderr",
     "output_type": "stream",
     "text": [
      "Using TensorFlow backend.\n"
     ]
    }
   ],
   "source": [
    "import sys\n",
    "import os\n",
    "from glob import glob\n",
    "sys.path.append(\"../\")\n",
    "from NEATModels import NEATStaticDetection, nets\n",
    "from NEATModels.Staticconfig  import StaticNeatConfig\n",
    "from NEATUtils import helpers\n",
    "from NEATUtils.helpers import save_json, load_json\n",
    "os.environ[\"CUDA_VISIBLE_DEVICES\"]=\"0\"\n",
    "os.environ[\"HDF5_USE_FILE_LOCKING\"] = \"FALSE\""
   ]
  },
  {
   "cell_type": "code",
   "execution_count": 2,
   "metadata": {},
   "outputs": [],
   "source": [
    "#Input the training directory containing training image patches and labels \n",
    "TrainDataDir = '/home/sancere/Kepler/FinalONEATTraining/StaticCenterTrainData/'\n",
    "#Directory containing the train category json, model parameter and weight vector file\n",
    "ModelDir = '/home/sancere/Kepler/FinalONEATTraining/NEATModel/'\n",
    "#Model name based on wether it is residual or sequntial ONEAT network\n",
    "Model_Name = 'ORStaticONEAT.h5'\n",
    "StaticCategoriesJson = ModelDir + 'StaticCategories.json'\n",
    "KeyCategories = load_json(StaticCategoriesJson)\n",
    "\n",
    "StaticCordJson = ModelDir + 'StaticCord.json'\n",
    "KeyCord = load_json(StaticCordJson)"
   ]
  },
  {
   "cell_type": "code",
   "execution_count": 3,
   "metadata": {},
   "outputs": [],
   "source": [
    "#Neural network parameters\n",
    "#For ORNET use residual = True and for OSNET use residual = False\n",
    "residual = True\n",
    "#NUmber of starting convolutional filters, is doubled down with increasing depth\n",
    "startfilter = 48\n",
    "#CNN network start layer, mid layers and lstm layer kernel size\n",
    "start_kernel = 3\n",
    "mid_kernel = 3\n",
    "#Network depth has to be 9n + 2, n= 3 or 4 is optimal for Notum dataset\n",
    "depth = 29\n",
    "#Training epochs, longer the better with proper chosen learning rate\n",
    "epochs = 150\n",
    "#Size of the gradient descent length vector, start small and use callbacs to get smaller when reaching the minima\n",
    "learning_rate = 1.0E-6\n",
    "#For stochastic gradient decent, the batch size used for computing the gradients\n",
    "batch_size = 10\n",
    "# use softmax for single event per box, sigmoid for multi event per box\n",
    "multievent = False\n",
    "# Grid and number of boxes for yolo\n",
    "gridX = 1\n",
    "gridY = 1\n",
    "Anchors = [0.11,0.11, 0.17,0.19, 0.26,0.29, 0.37,0.37, 0.62,0.55]\n"
   ]
  },
  {
   "cell_type": "code",
   "execution_count": 4,
   "metadata": {},
   "outputs": [
    {
     "name": "stdout",
     "output_type": "stream",
     "text": [
      "StaticNeatConfig(ModelName='ORStaticONEAT.h5', batch_size=10, box_vector=5, categories=4, depth=29, epochs=150, gridX=1, gridY=1, learning_rate=1e-06, mid_kernel=3, multievent=False, nboxes=5.0, residual=False, start_kernel=3, startfilter=48)\n"
     ]
    }
   ],
   "source": [
    "config = StaticNeatConfig(residual = residual, depth = depth, start_kernel = start_kernel, mid_kernel = mid_kernel,\n",
    "                         startfiler = startfilter, gridX = gridX, gridY = gridY, nboxes = int(len(Anchors))/2, \n",
    "                         epochs = epochs, categories = len(KeyCategories), box_vector = len(KeyCord), learning_rate = learning_rate,\n",
    "                         batch_size = batch_size, ModelName = Model_Name, multievent = multievent)\n",
    "\n",
    "config_json = config.to_json()\n",
    "show = True\n",
    "print(config)\n",
    "save_json(config_json, ModelDir + Model_Name + '_Parameter.json')"
   ]
  },
  {
   "cell_type": "code",
   "execution_count": 5,
   "metadata": {
    "scrolled": false
   },
   "outputs": [
    {
     "name": "stdout",
     "output_type": "stream",
     "text": [
      "number of  images:\t 1689\n",
      "image size:\t\t (1689, 128, 128, 1)\n",
      "Labels:\t\t\t\t (1689, 1, 1, 9)\n"
     ]
    }
   ],
   "source": [
    "Train = NEATStaticDetection(config, Anchors, TrainDataDir, KeyCategories, KeyCord, ModelDir, Model_Name, show = show)\n",
    "\n",
    "Train.loadData()\n",
    "\n"
   ]
  },
  {
   "cell_type": "code",
   "execution_count": null,
   "metadata": {},
   "outputs": [
    {
     "name": "stdout",
     "output_type": "stream",
     "text": [
      "WARNING:tensorflow:From /home/sancere/anaconda3/envs/tensorflowGPU/lib/python3.6/site-packages/tensorflow_core/python/ops/resource_variable_ops.py:1630: calling BaseResourceVariable.__init__ (from tensorflow.python.ops.resource_variable_ops) with constraint is deprecated and will be removed in a future version.\n",
      "Instructions for updating:\n",
      "If using Keras pass *_constraint arguments to layers.\n"
     ]
    }
   ],
   "source": [
    "Train.TrainModel()"
   ]
  },
  {
   "cell_type": "code",
   "execution_count": null,
   "metadata": {},
   "outputs": [],
   "source": []
  },
  {
   "cell_type": "code",
   "execution_count": null,
   "metadata": {},
   "outputs": [],
   "source": []
  }
 ],
 "metadata": {
  "kernelspec": {
   "display_name": "Python 3",
   "language": "python",
   "name": "python3"
  },
  "language_info": {
   "codemirror_mode": {
    "name": "ipython",
    "version": 3
   },
   "file_extension": ".py",
   "mimetype": "text/x-python",
   "name": "python",
   "nbconvert_exporter": "python",
   "pygments_lexer": "ipython3",
   "version": "3.6.10"
  },
  "toc": {
   "base_numbering": 1,
   "nav_menu": {},
   "number_sections": false,
   "sideBar": false,
   "skip_h1_title": false,
   "title_cell": "Table of Contents",
   "title_sidebar": "Contents",
   "toc_cell": false,
   "toc_position": {},
   "toc_section_display": false,
   "toc_window_display": false
  }
 },
 "nbformat": 4,
 "nbformat_minor": 4
}
