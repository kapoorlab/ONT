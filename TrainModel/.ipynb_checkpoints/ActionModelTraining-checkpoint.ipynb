{
 "cells": [
  {
   "cell_type": "code",
   "execution_count": 1,
   "metadata": {},
   "outputs": [
    {
     "name": "stderr",
     "output_type": "stream",
     "text": [
      "Using TensorFlow backend.\n"
     ]
    }
   ],
   "source": [
    "import sys\n",
    "import os\n",
    "from glob import glob\n",
    "sys.path.append(\"../NEAT\")\n",
    "from NEATModels import NEATDetection, nets\n",
    "from NEATModels.config import NeatConfig\n",
    "from NEATUtils import helpers\n",
    "from NEATUtils.helpers import save_json\n",
    "os.environ[\"CUDA_VISIBLE_DEVICES\"]=\"0\"\n",
    "os.environ[\"HDF5_USE_FILE_LOCKING\"] = \"FALSE\""
   ]
  },
  {
   "cell_type": "code",
   "execution_count": 2,
   "metadata": {},
   "outputs": [],
   "source": [
    "TrainDataDirDirectory = '/data/u934/service_imagerie/v_kapoor/CSVforNeat/YolONEAT/CenterTrainData/'\n",
    "\n",
    "\n",
    "#Read and Write the h5 file, directory location and name\n",
    "Model_dir = '/data/u934/service_imagerie/CurieTrainingDatasets/YolONEAT/CurieDeepLearningModels/YolONEAT/'\n",
    "Model_Name = 'ORYolo.h5'\n",
    "\n",
    "#Neural network parameters\n",
    "#For ORNET use residual = True and for OSNET use residual = False\n",
    "residual = True\n",
    "startfilter = 48\n",
    "start_kernel = 3\n",
    "lstm_kernel = 3\n",
    "mid_kernel = 3\n",
    "depth = 29\n",
    "epochs = 150\n",
    "learning_rate = 1.0E-4\n",
    "batch_size = 10\n",
    "lstm = 16\n",
    "#XYTHW Confidence\n",
    "box_vector = 6"
   ]
  },
  {
   "cell_type": "code",
   "execution_count": 6,
   "metadata": {},
   "outputs": [
    {
     "name": "stdout",
     "output_type": "stream",
     "text": [
      "NeatConfig(ModelName='MidONEATd29cl48.h5', batch_size=(10,), depth=29, epochs=100, learning_rate=0.0001, lstm=16, mid_kernel=3, residual=True, start_kernel=3, startfilter=48)\n"
     ]
    }
   ],
   "source": [
    "config = NeatConfig(startfilter = startfilter, start_kernel = start_kernel, mid_kernel = mid_kernel,\n",
    "                    lstm_kernel = lstm_kernel,\n",
    "                depth = depth, lstm = lstm, learning_rate = learning_rate, batch_size = batch_size, epochs = epochs, ModelName = Model_Name)\n",
    "\n",
    "config_json = config.to_json()\n",
    "show = True\n",
    "\n",
    "model_weights = Model_dir + Model_Name\n",
    "\n",
    "if os.path.exists(model_weights):\n",
    "\n",
    "    model_weights = model_weights\n",
    "    print('loading weights')\n",
    "else:\n",
    "   \n",
    "    model_weights = None\n",
    "\n",
    "Categories_Name = []\n",
    "Categories_Name.append(['Normal', 0])\n",
    "Categories_Name.append(['Apoptosis', 1])\n",
    "Categories_Name.append(['Divisions', 2])\n",
    "Categories_Name.append(['MacroKitty', 3])\n",
    "Categories_Name.append(['NonMatureP1', 4])\n",
    "Categories_Name.append(['MatureP1', 5])\n",
    "print(config)\n",
    "save_json(config_json, Model_dir + Model_Name + 'Param.json')"
   ]
  },
  {
   "cell_type": "code",
   "execution_count": null,
   "metadata": {},
   "outputs": [],
   "source": [
    "Train = NEATDetection(config, NpzDirectory, TrainModelName,ValidationModelName, Categories_Name, box_vector, Model_dir, Model_Name, model_weights = model_weights, show = show)\n",
    "\n",
    "Train.loadData()\n",
    "\n",
    "Train.TrainModel()\n"
   ]
  },
  {
   "cell_type": "code",
   "execution_count": null,
   "metadata": {},
   "outputs": [],
   "source": []
  },
  {
   "cell_type": "code",
   "execution_count": null,
   "metadata": {},
   "outputs": [],
   "source": []
  },
  {
   "cell_type": "code",
   "execution_count": null,
   "metadata": {},
   "outputs": [],
   "source": []
  }
 ],
 "metadata": {
  "kernelspec": {
   "display_name": "Python 3",
   "language": "python",
   "name": "python3"
  },
  "language_info": {
   "codemirror_mode": {
    "name": "ipython",
    "version": 3
   },
   "file_extension": ".py",
   "mimetype": "text/x-python",
   "name": "python",
   "nbconvert_exporter": "python",
   "pygments_lexer": "ipython3",
   "version": "3.8.5"
  },
  "toc": {
   "base_numbering": 1,
   "nav_menu": {},
   "number_sections": false,
   "sideBar": false,
   "skip_h1_title": false,
   "title_cell": "Table of Contents",
   "title_sidebar": "Contents",
   "toc_cell": false,
   "toc_position": {},
   "toc_section_display": false,
   "toc_window_display": false
  }
 },
 "nbformat": 4,
 "nbformat_minor": 4
}
