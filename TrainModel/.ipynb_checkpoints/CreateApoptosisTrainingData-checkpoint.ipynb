{
 "cells": [
  {
   "cell_type": "code",
   "execution_count": 1,
   "metadata": {},
   "outputs": [
    {
     "name": "stderr",
     "output_type": "stream",
     "text": [
      "Using TensorFlow backend.\n"
     ]
    }
   ],
   "source": [
    "import numpy as np\n",
    "from tifffile import imread \n",
    "import sys\n",
    "import os\n",
    "import cv2\n",
    "from glob import glob\n",
    "from tqdm import tqdm\n",
    "import pandas as pd\n",
    "sys.path.append('../')\n",
    "from NEATUtils import MovieCreator\n",
    "from NEATUtils.helpers import save_json, load_json\n",
    "from NEATModels.TrainConfig import TrainConfig\n",
    "from pathlib import Path\n"
   ]
  },
  {
   "cell_type": "code",
   "execution_count": null,
   "metadata": {},
   "outputs": [],
   "source": [
    "#Specify the directory containing images\n",
    "ImageDir = '/home/sancere/Kepler/FinalONEATTraining/NEATImages/'\n",
    "#Specify the directory contaiing csv files\n",
    "CSVDir = '/home/sancere/Kepler/FinalONEATTraining/ApoptosisActionNEATCSV/'\n",
    "#Specify the directory containing the segmentations\n",
    "SegImageDir = '/home/sancere/Kepler/FinalONEATTraining/NEATSegImages/'\n",
    "#Specify the model directory where we store the json of categories, training model and parameters\n",
    "ModelDir = '/home/sancere/Kepler/FinalONEATTraining/NEATModel/'\n",
    "#Directory for storing center ONEAT training data for static classes\n",
    "SaveDir = '/home/sancere/Kepler/FinalONEATTraining/ApoptosisCenterTrainData/'\n",
    "Path(ModelDir).mkdir(exist_ok = True)\n"
   ]
  },
  {
   "cell_type": "code",
   "execution_count": null,
   "metadata": {},
   "outputs": [],
   "source": [
    "#Name of the action events\n",
    "ActionName = [\"Normal\", \"Apoptosis\"]\n",
    "#Label corresponding to the action event\n",
    "ActionLabel = [0, 1]\n",
    "#The name appended before the CSV files\n",
    "CSVNameDiff = 'ONEAT"
   ]
  },
  {
   "cell_type": "code",
   "execution_count": 7,
   "metadata": {},
   "outputs": [],
   "source": [
    "#X Y Tminus and Tplus for making image volumes for dynamic and static events\n",
    "crop_size = [124,124,5,5]\n",
    "\n",
    "SizeX = crop_size[0]\n",
    "SizeY = crop_size[1]\n",
    "\n",
    "\n",
    "#Vectors attached to each action event\n",
    "ActionCoordinateName = [\"X\", \"Y\", \"T\", \"H\", \"W\", \"Conf\", \"Angle\", \"SizeX\", \"SizeY\", \"SizeTminus\", \"SizeTplus\"]\n",
    "ActionCoordinateLabel = [0, 1, 2, 3, 4, 5, 6, SizeX, SizeY, crop_size[2] , crop_size[3]]\n",
    "\n",
    "\n",
    "\n"
   ]
  },
  {
   "cell_type": "code",
   "execution_count": 9,
   "metadata": {},
   "outputs": [
    {
     "name": "stdout",
     "output_type": "stream",
     "text": [
      "Categories for action training 3\n",
      "Categories for static training 4\n"
     ]
    }
   ],
   "source": [
    "ActionConfig = TrainConfig(ActionName, ActionEventTrain, ActionCoordinateName, ActionCoordinateLabel)\n",
    "\n",
    "\n",
    "Action_json, Action_Cord_json = ActionConfig.to_json()\n",
    "\n",
    "save_json(Action_json, ModelDir + \"ActionCategories\" + '.json')\n",
    "\n",
    "\n",
    "save_json(Action_Cord_json, ModelDir + \"ActionCord\" + '.json')\n",
    "\n"
   ]
  },
  {
   "cell_type": "markdown",
   "metadata": {},
   "source": [
    "# For center ONEAT, event is exactly in the center for all training examples"
   ]
  },
  {
   "cell_type": "code",
   "execution_count": null,
   "metadata": {},
   "outputs": [],
   "source": [
    "MovieCreator. MovieLabelDataSet(ImageDir, SegImageDir, CSVDir,SaveDir, ActionName, ActionLabel, CSVNameDiff,crop_size)"
   ]
  }
 ],
 "metadata": {
  "kernelspec": {
   "display_name": "Python 3",
   "language": "python",
   "name": "python3"
  },
  "language_info": {
   "codemirror_mode": {
    "name": "ipython",
    "version": 3
   },
   "file_extension": ".py",
   "mimetype": "text/x-python",
   "name": "python",
   "nbconvert_exporter": "python",
   "pygments_lexer": "ipython3",
   "version": "3.6.10"
  }
 },
 "nbformat": 4,
 "nbformat_minor": 4
}
