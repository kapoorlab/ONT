{
 "cells": [
  {
   "cell_type": "code",
   "execution_count": 1,
   "metadata": {},
   "outputs": [
    {
     "name": "stderr",
     "output_type": "stream",
     "text": [
      "Using TensorFlow backend.\n"
     ]
    }
   ],
   "source": [
    "import numpy as np\n",
    "from tifffile import imread \n",
    "import sys\n",
    "import os\n",
    "import cv2\n",
    "import glob\n",
    "from tqdm import tqdm\n",
    "import pandas as pd\n",
    "sys.path.append('../')\n",
    "from NEATUtils import MovieCreator\n",
    "from NEATUtils.helpers import save_json, load_json\n",
    "from NEATModels.TrainConfig import TrainConfig\n",
    "from pathlib import Path\n"
   ]
  },
  {
   "cell_type": "code",
   "execution_count": 2,
   "metadata": {},
   "outputs": [],
   "source": [
    "#Specify the directory containing images\n",
    "ImageDir = '/home/sancere/Kepler/FinalONEATTraining/NEATImages/'\n",
    "#Specify the directory contaiing csv files\n",
    "CSVDir = '/home/sancere/Kepler/FinalONEATTraining/NEATCSV/'\n",
    "#Specify the directory containing the segmentations\n",
    "SegImageDir = '/home/sancere/Kepler/FinalONEATTraining/NEATSegImages/'\n",
    "#Specify the model directory where we store the json of categories, training model and parameters\n",
    "ModelDir = '/home/sancere/Kepler/FinalONEATTraining/NEATModel/'\n",
    "#Directory for storing center ONEAT training data for static classes\n",
    "SaveDir = '/home/sancere/Kepler/FinalONEATTraining/StaticCenterTrainData/'\n",
    "Path(ModelDir).mkdir(exist_ok = True)\n",
    "\n"
   ]
  },
  {
   "cell_type": "code",
   "execution_count": 3,
   "metadata": {},
   "outputs": [],
   "source": [
    "#Name of the static events\n",
    "StaticName = [\"Normal\", \"MacroCheate\", \"NonMatureP1\", \"MatureP1\"]\n",
    "#Label corresponding to static event\n",
    "StaticLabel = [0, 1, 2, 3]\n",
    "\n",
    "#The name appended before the CSV files\n",
    "CSVNameDiff = 'ONEAT'\n"
   ]
  },
  {
   "cell_type": "code",
   "execution_count": 4,
   "metadata": {},
   "outputs": [],
   "source": [
    "#X Y static events\n",
    "crop_size = [128,128]\n",
    "\n",
    "#Vectors attached to each static event\n",
    "StaticCoordinateName = [\"X\", \"Y\", \"H\", \"W\", \"C\"]\n",
    "StaticCoordinateLabel = [0, 1, 2, 3, 4]\n",
    "\n",
    "offset = 10"
   ]
  },
  {
   "cell_type": "code",
   "execution_count": 5,
   "metadata": {},
   "outputs": [],
   "source": [
    "\n",
    "\n",
    "StaticConfig = TrainConfig(StaticName, StaticLabel, StaticCoordinateName, StaticCoordinateLabel)\n",
    "\n",
    "Static_json, Static_Cord_json = StaticConfig.to_json()\n",
    "save_json(Static_json, ModelDir + \"StaticCategories\" + '.json')\n",
    "\n",
    "save_json(Static_Cord_json, ModelDir + \"StaticCord\" + '.json')\n"
   ]
  },
  {
   "cell_type": "markdown",
   "metadata": {},
   "source": [
    "# For center ONEAT, event is exactly in the center for all training examples"
   ]
  },
  {
   "cell_type": "code",
   "execution_count": 6,
   "metadata": {
    "scrolled": false
   },
   "outputs": [
    {
     "name": "stdout",
     "output_type": "stream",
     "text": [
      "/home/sancere/Kepler/FinalONEATTraining/NEATCSV/ONEATDIAP_mov5Normal.csv\n",
      "(slice(97, 98, None), slice(1353, 1481, None), slice(1611, 1739, None)) DIAP_mov5Normal0shift[0, 0]\n",
      "(slice(98, 99, None), slice(946, 1074, None), slice(1845, 1973, None)) DIAP_mov5Normal1shift[0, 0]\n",
      "(slice(66, 67, None), slice(929, 1057, None), slice(1726, 1854, None)) DIAP_mov5Normal2shift[0, 0]\n",
      "(slice(66, 67, None), slice(559, 687, None), slice(1261, 1389, None)) DIAP_mov5Normal3shift[0, 0]\n",
      "(slice(69, 70, None), slice(1049, 1177, None), slice(2134, 2262, None)) DIAP_mov5Normal4shift[0, 0]\n",
      "(slice(71, 72, None), slice(353, 481, None), slice(1335, 1463, None)) DIAP_mov5Normal5shift[0, 0]\n",
      "(slice(104, 105, None), slice(936, 1064, None), slice(1847, 1975, None)) DIAP_mov5Normal6shift[0, 0]\n",
      "(slice(40, 41, None), slice(1201, 1329, None), slice(1962, 2090, None)) DIAP_mov5Normal7shift[0, 0]\n",
      "(slice(72, 73, None), slice(1346, 1474, None), slice(1520, 1648, None)) DIAP_mov5Normal8shift[0, 0]\n",
      "(slice(74, 75, None), slice(942, 1070, None), slice(2059, 2187, None)) DIAP_mov5Normal9shift[0, 0]\n",
      "(slice(74, 75, None), slice(446, 574, None), slice(1372, 1500, None)) DIAP_mov5Normal10shift[0, 0]\n",
      "(slice(42, 43, None), slice(330, 458, None), slice(1302, 1430, None)) DIAP_mov5Normal11shift[0, 0]\n",
      "(slice(75, 76, None), slice(1160, 1288, None), slice(2154, 2282, None)) DIAP_mov5Normal12shift[0, 0]\n",
      "(slice(110, 111, None), slice(1059, 1187, None), slice(1107, 1235, None)) DIAP_mov5Normal13shift[0, 0]\n",
      "(slice(110, 111, None), slice(1043, 1171, None), slice(1088, 1216, None)) DIAP_mov5Normal14shift[0, 0]\n",
      "(slice(110, 111, None), slice(1360, 1488, None), slice(1640, 1768, None)) DIAP_mov5Normal15shift[0, 0]\n",
      "(slice(79, 80, None), slice(920, 1048, None), slice(290, 418, None)) DIAP_mov5Normal16shift[0, 0]\n",
      "(slice(79, 80, None), slice(779, 907, None), slice(284, 412, None)) DIAP_mov5Normal17shift[0, 0]\n",
      "(slice(79, 80, None), slice(998, 1126, None), slice(281, 409, None)) DIAP_mov5Normal18shift[0, 0]\n",
      "(slice(79, 80, None), slice(854, 982, None), slice(404, 532, None)) DIAP_mov5Normal19shift[0, 0]\n",
      "(slice(79, 80, None), slice(632, 760, None), slice(2282, 2410, None)) DIAP_mov5Normal20shift[0, 0]\n",
      "(slice(79, 80, None), slice(1049, 1177, None), slice(2315, 2443, None)) DIAP_mov5Normal21shift[0, 0]\n",
      "(slice(79, 80, None), slice(1847, 1975, None), slice(1814, 1942, None)) DIAP_mov5Normal22shift[0, 0]\n",
      "(slice(79, 80, None), slice(1952, 2080, None), slice(1403, 1531, None)) DIAP_mov5Normal23shift[0, 0]\n",
      "(slice(79, 80, None), slice(1982, 2110, None), slice(938, 1066, None)) DIAP_mov5Normal24shift[0, 0]\n",
      "(slice(79, 80, None), slice(1616, 1744, None), slice(536, 664, None)) DIAP_mov5Normal25shift[0, 0]\n",
      "(slice(79, 80, None), slice(1550, 1678, None), slice(239, 367, None)) DIAP_mov5Normal26shift[0, 0]\n",
      "(slice(79, 80, None), slice(1439, 1567, None), slice(104, 232, None)) DIAP_mov5Normal27shift[0, 0]\n",
      "(slice(79, 80, None), slice(407, 535, None), slice(2009, 2137, None)) DIAP_mov5Normal28shift[0, 0]\n",
      "(slice(83, 84, None), slice(854, 982, None), slice(1586, 1714, None)) DIAP_mov5Normal29shift[0, 0]\n",
      "(slice(52, 53, None), slice(1176, 1304, None), slice(2031, 2159, None)) DIAP_mov5Normal30shift[0, 0]\n",
      "(slice(52, 53, None), slice(321, 449, None), slice(1276, 1404, None)) DIAP_mov5Normal31shift[0, 0]\n",
      "(slice(84, 85, None), slice(1040, 1168, None), slice(1033, 1161, None)) DIAP_mov5Normal32shift[0, 0]\n",
      "(slice(85, 86, None), slice(1399, 1527, None), slice(1024, 1152, None)) DIAP_mov5Normal33shift[0, 0]\n",
      "(slice(85, 86, None), slice(1125, 1253, None), slice(1135, 1263, None)) DIAP_mov5Normal34shift[0, 0]\n",
      "(slice(85, 86, None), slice(544, 672, None), slice(1213, 1341, None)) DIAP_mov5Normal35shift[0, 0]\n",
      "(slice(55, 56, None), slice(762, 890, None), slice(1893, 2021, None)) DIAP_mov5Normal36shift[0, 0]\n",
      "(slice(89, 90, None), slice(947, 1075, None), slice(1840, 1968, None)) DIAP_mov5Normal37shift[0, 0]\n",
      "(slice(89, 90, None), slice(966, 1094, None), slice(1594, 1722, None)) DIAP_mov5Normal38shift[0, 0]\n",
      "(slice(92, 93, None), slice(904, 1032, None), slice(1819, 1947, None)) DIAP_mov5Normal39shift[0, 0]\n",
      "(slice(60, 61, None), slice(1109, 1237, None), slice(1875, 2003, None)) DIAP_mov5Normal40shift[0, 0]\n",
      "/home/sancere/Kepler/FinalONEATTraining/NEATCSV/ONEATDIAP_mov5NonMatureP1.csv\n",
      "(slice(31, 32, None), slice(721, 849, None), slice(1365, 1493, None)) DIAP_mov5NonMatureP10shift[0, 0]\n",
      "(slice(31, 32, None), slice(721, 849, None), slice(1350, 1478, None)) DIAP_mov5NonMatureP10shift[-10, 0]\n",
      "(slice(31, 32, None), slice(721, 849, None), slice(1380, 1508, None)) DIAP_mov5NonMatureP10shift[10, 0]\n",
      "(slice(31, 32, None), slice(706, 834, None), slice(1350, 1478, None)) DIAP_mov5NonMatureP10shift[-10, -10]\n",
      "(slice(31, 32, None), slice(706, 834, None), slice(1380, 1508, None)) DIAP_mov5NonMatureP10shift[10, -10]\n",
      "(slice(31, 32, None), slice(736, 864, None), slice(1350, 1478, None)) DIAP_mov5NonMatureP10shift[-10, 10]\n",
      "(slice(31, 32, None), slice(736, 864, None), slice(1380, 1508, None)) DIAP_mov5NonMatureP10shift[10, 10]\n",
      "(slice(31, 32, None), slice(706, 834, None), slice(1365, 1493, None)) DIAP_mov5NonMatureP10shift[0, -10]\n",
      "(slice(31, 32, None), slice(736, 864, None), slice(1365, 1493, None)) DIAP_mov5NonMatureP10shift[0, 10]\n",
      "(slice(31, 32, None), slice(811, 939, None), slice(1253, 1381, None)) DIAP_mov5NonMatureP11shift[0, 0]\n",
      "(slice(31, 32, None), slice(811, 939, None), slice(1238, 1366, None)) DIAP_mov5NonMatureP11shift[-10, 0]\n",
      "(slice(31, 32, None), slice(811, 939, None), slice(1268, 1396, None)) DIAP_mov5NonMatureP11shift[10, 0]\n",
      "(slice(31, 32, None), slice(796, 924, None), slice(1238, 1366, None)) DIAP_mov5NonMatureP11shift[-10, -10]\n",
      "(slice(31, 32, None), slice(796, 924, None), slice(1268, 1396, None)) DIAP_mov5NonMatureP11shift[10, -10]\n",
      "(slice(31, 32, None), slice(826, 954, None), slice(1238, 1366, None)) DIAP_mov5NonMatureP11shift[-10, 10]\n",
      "(slice(31, 32, None), slice(826, 954, None), slice(1268, 1396, None)) DIAP_mov5NonMatureP11shift[10, 10]\n",
      "(slice(31, 32, None), slice(796, 924, None), slice(1253, 1381, None)) DIAP_mov5NonMatureP11shift[0, -10]\n",
      "(slice(31, 32, None), slice(826, 954, None), slice(1253, 1381, None)) DIAP_mov5NonMatureP11shift[0, 10]\n",
      "(slice(31, 32, None), slice(643, 771, None), slice(1674, 1802, None)) DIAP_mov5NonMatureP12shift[0, 0]\n",
      "(slice(31, 32, None), slice(643, 771, None), slice(1659, 1787, None)) DIAP_mov5NonMatureP12shift[-10, 0]\n",
      "(slice(31, 32, None), slice(643, 771, None), slice(1689, 1817, None)) DIAP_mov5NonMatureP12shift[10, 0]\n",
      "(slice(31, 32, None), slice(628, 756, None), slice(1659, 1787, None)) DIAP_mov5NonMatureP12shift[-10, -10]\n",
      "(slice(31, 32, None), slice(628, 756, None), slice(1689, 1817, None)) DIAP_mov5NonMatureP12shift[10, -10]\n",
      "(slice(31, 32, None), slice(658, 786, None), slice(1659, 1787, None)) DIAP_mov5NonMatureP12shift[-10, 10]\n",
      "(slice(31, 32, None), slice(658, 786, None), slice(1689, 1817, None)) DIAP_mov5NonMatureP12shift[10, 10]\n",
      "(slice(31, 32, None), slice(628, 756, None), slice(1674, 1802, None)) DIAP_mov5NonMatureP12shift[0, -10]\n",
      "(slice(31, 32, None), slice(658, 786, None), slice(1674, 1802, None)) DIAP_mov5NonMatureP12shift[0, 10]\n",
      "(slice(31, 32, None), slice(936, 1064, None), slice(1027, 1155, None)) DIAP_mov5NonMatureP13shift[0, 0]\n",
      "(slice(31, 32, None), slice(936, 1064, None), slice(1012, 1140, None)) DIAP_mov5NonMatureP13shift[-10, 0]\n",
      "(slice(31, 32, None), slice(936, 1064, None), slice(1042, 1170, None)) DIAP_mov5NonMatureP13shift[10, 0]\n",
      "(slice(31, 32, None), slice(921, 1049, None), slice(1012, 1140, None)) DIAP_mov5NonMatureP13shift[-10, -10]\n",
      "(slice(31, 32, None), slice(921, 1049, None), slice(1042, 1170, None)) DIAP_mov5NonMatureP13shift[10, -10]\n",
      "(slice(31, 32, None), slice(951, 1079, None), slice(1012, 1140, None)) DIAP_mov5NonMatureP13shift[-10, 10]\n",
      "(slice(31, 32, None), slice(951, 1079, None), slice(1042, 1170, None)) DIAP_mov5NonMatureP13shift[10, 10]\n",
      "(slice(31, 32, None), slice(921, 1049, None), slice(1027, 1155, None)) DIAP_mov5NonMatureP13shift[0, -10]\n",
      "(slice(31, 32, None), slice(951, 1079, None), slice(1027, 1155, None)) DIAP_mov5NonMatureP13shift[0, 10]\n",
      "(slice(31, 32, None), slice(975, 1103, None), slice(950, 1078, None)) DIAP_mov5NonMatureP14shift[0, 0]\n",
      "(slice(31, 32, None), slice(975, 1103, None), slice(935, 1063, None)) DIAP_mov5NonMatureP14shift[-10, 0]\n",
      "(slice(31, 32, None), slice(975, 1103, None), slice(965, 1093, None)) DIAP_mov5NonMatureP14shift[10, 0]\n",
      "(slice(31, 32, None), slice(960, 1088, None), slice(935, 1063, None)) DIAP_mov5NonMatureP14shift[-10, -10]\n",
      "(slice(31, 32, None), slice(960, 1088, None), slice(965, 1093, None)) DIAP_mov5NonMatureP14shift[10, -10]\n",
      "(slice(31, 32, None), slice(990, 1118, None), slice(935, 1063, None)) DIAP_mov5NonMatureP14shift[-10, 10]\n",
      "(slice(31, 32, None), slice(990, 1118, None), slice(965, 1093, None)) DIAP_mov5NonMatureP14shift[10, 10]\n",
      "(slice(31, 32, None), slice(960, 1088, None), slice(950, 1078, None)) DIAP_mov5NonMatureP14shift[0, -10]\n",
      "(slice(31, 32, None), slice(990, 1118, None), slice(950, 1078, None)) DIAP_mov5NonMatureP14shift[0, 10]\n"
     ]
    },
    {
     "name": "stdout",
     "output_type": "stream",
     "text": [
      "(slice(31, 32, None), slice(964, 1092, None), slice(884, 1012, None)) DIAP_mov5NonMatureP15shift[0, 0]\n",
      "(slice(31, 32, None), slice(964, 1092, None), slice(869, 997, None)) DIAP_mov5NonMatureP15shift[-10, 0]\n",
      "(slice(31, 32, None), slice(964, 1092, None), slice(899, 1027, None)) DIAP_mov5NonMatureP15shift[10, 0]\n",
      "(slice(31, 32, None), slice(949, 1077, None), slice(869, 997, None)) DIAP_mov5NonMatureP15shift[-10, -10]\n",
      "(slice(31, 32, None), slice(949, 1077, None), slice(899, 1027, None)) DIAP_mov5NonMatureP15shift[10, -10]\n",
      "(slice(31, 32, None), slice(979, 1107, None), slice(869, 997, None)) DIAP_mov5NonMatureP15shift[-10, 10]\n",
      "(slice(31, 32, None), slice(979, 1107, None), slice(899, 1027, None)) DIAP_mov5NonMatureP15shift[10, 10]\n",
      "(slice(31, 32, None), slice(949, 1077, None), slice(884, 1012, None)) DIAP_mov5NonMatureP15shift[0, -10]\n",
      "(slice(31, 32, None), slice(979, 1107, None), slice(884, 1012, None)) DIAP_mov5NonMatureP15shift[0, 10]\n",
      "(slice(31, 32, None), slice(1079, 1207, None), slice(975, 1103, None)) DIAP_mov5NonMatureP16shift[0, 0]\n",
      "(slice(31, 32, None), slice(1079, 1207, None), slice(960, 1088, None)) DIAP_mov5NonMatureP16shift[-10, 0]\n",
      "(slice(31, 32, None), slice(1079, 1207, None), slice(990, 1118, None)) DIAP_mov5NonMatureP16shift[10, 0]\n",
      "(slice(31, 32, None), slice(1064, 1192, None), slice(960, 1088, None)) DIAP_mov5NonMatureP16shift[-10, -10]\n",
      "(slice(31, 32, None), slice(1064, 1192, None), slice(990, 1118, None)) DIAP_mov5NonMatureP16shift[10, -10]\n",
      "(slice(31, 32, None), slice(1094, 1222, None), slice(960, 1088, None)) DIAP_mov5NonMatureP16shift[-10, 10]\n",
      "(slice(31, 32, None), slice(1094, 1222, None), slice(990, 1118, None)) DIAP_mov5NonMatureP16shift[10, 10]\n",
      "(slice(31, 32, None), slice(1064, 1192, None), slice(975, 1103, None)) DIAP_mov5NonMatureP16shift[0, -10]\n",
      "(slice(31, 32, None), slice(1094, 1222, None), slice(975, 1103, None)) DIAP_mov5NonMatureP16shift[0, 10]\n",
      "(slice(31, 32, None), slice(789, 917, None), slice(1057, 1185, None)) DIAP_mov5NonMatureP17shift[0, 0]\n",
      "(slice(31, 32, None), slice(789, 917, None), slice(1042, 1170, None)) DIAP_mov5NonMatureP17shift[-10, 0]\n",
      "(slice(31, 32, None), slice(789, 917, None), slice(1072, 1200, None)) DIAP_mov5NonMatureP17shift[10, 0]\n",
      "(slice(31, 32, None), slice(774, 902, None), slice(1042, 1170, None)) DIAP_mov5NonMatureP17shift[-10, -10]\n",
      "(slice(31, 32, None), slice(774, 902, None), slice(1072, 1200, None)) DIAP_mov5NonMatureP17shift[10, -10]\n",
      "(slice(31, 32, None), slice(804, 932, None), slice(1042, 1170, None)) DIAP_mov5NonMatureP17shift[-10, 10]\n",
      "(slice(31, 32, None), slice(804, 932, None), slice(1072, 1200, None)) DIAP_mov5NonMatureP17shift[10, 10]\n",
      "(slice(31, 32, None), slice(774, 902, None), slice(1057, 1185, None)) DIAP_mov5NonMatureP17shift[0, -10]\n",
      "(slice(31, 32, None), slice(804, 932, None), slice(1057, 1185, None)) DIAP_mov5NonMatureP17shift[0, 10]\n",
      "(slice(31, 32, None), slice(1424, 1552, None), slice(1342, 1470, None)) DIAP_mov5NonMatureP18shift[0, 0]\n",
      "(slice(31, 32, None), slice(1424, 1552, None), slice(1327, 1455, None)) DIAP_mov5NonMatureP18shift[-10, 0]\n",
      "(slice(31, 32, None), slice(1424, 1552, None), slice(1357, 1485, None)) DIAP_mov5NonMatureP18shift[10, 0]\n",
      "(slice(31, 32, None), slice(1409, 1537, None), slice(1327, 1455, None)) DIAP_mov5NonMatureP18shift[-10, -10]\n",
      "(slice(31, 32, None), slice(1409, 1537, None), slice(1357, 1485, None)) DIAP_mov5NonMatureP18shift[10, -10]\n",
      "(slice(31, 32, None), slice(1439, 1567, None), slice(1327, 1455, None)) DIAP_mov5NonMatureP18shift[-10, 10]\n",
      "(slice(31, 32, None), slice(1439, 1567, None), slice(1357, 1485, None)) DIAP_mov5NonMatureP18shift[10, 10]\n",
      "(slice(31, 32, None), slice(1409, 1537, None), slice(1342, 1470, None)) DIAP_mov5NonMatureP18shift[0, -10]\n",
      "(slice(31, 32, None), slice(1439, 1567, None), slice(1342, 1470, None)) DIAP_mov5NonMatureP18shift[0, 10]\n",
      "(slice(31, 32, None), slice(1493, 1621, None), slice(1203, 1331, None)) DIAP_mov5NonMatureP19shift[0, 0]\n",
      "(slice(31, 32, None), slice(1493, 1621, None), slice(1188, 1316, None)) DIAP_mov5NonMatureP19shift[-10, 0]\n",
      "(slice(31, 32, None), slice(1493, 1621, None), slice(1218, 1346, None)) DIAP_mov5NonMatureP19shift[10, 0]\n",
      "(slice(31, 32, None), slice(1478, 1606, None), slice(1188, 1316, None)) DIAP_mov5NonMatureP19shift[-10, -10]\n",
      "(slice(31, 32, None), slice(1478, 1606, None), slice(1218, 1346, None)) DIAP_mov5NonMatureP19shift[10, -10]\n",
      "(slice(31, 32, None), slice(1508, 1636, None), slice(1188, 1316, None)) DIAP_mov5NonMatureP19shift[-10, 10]\n",
      "(slice(31, 32, None), slice(1508, 1636, None), slice(1218, 1346, None)) DIAP_mov5NonMatureP19shift[10, 10]\n",
      "(slice(31, 32, None), slice(1478, 1606, None), slice(1203, 1331, None)) DIAP_mov5NonMatureP19shift[0, -10]\n",
      "(slice(31, 32, None), slice(1508, 1636, None), slice(1203, 1331, None)) DIAP_mov5NonMatureP19shift[0, 10]\n",
      "(slice(31, 32, None), slice(1626, 1754, None), slice(1400, 1528, None)) DIAP_mov5NonMatureP110shift[0, 0]\n",
      "(slice(31, 32, None), slice(1626, 1754, None), slice(1385, 1513, None)) DIAP_mov5NonMatureP110shift[-10, 0]\n",
      "(slice(31, 32, None), slice(1626, 1754, None), slice(1415, 1543, None)) DIAP_mov5NonMatureP110shift[10, 0]\n",
      "(slice(31, 32, None), slice(1611, 1739, None), slice(1385, 1513, None)) DIAP_mov5NonMatureP110shift[-10, -10]\n",
      "(slice(31, 32, None), slice(1611, 1739, None), slice(1415, 1543, None)) DIAP_mov5NonMatureP110shift[10, -10]\n",
      "(slice(31, 32, None), slice(1641, 1769, None), slice(1385, 1513, None)) DIAP_mov5NonMatureP110shift[-10, 10]\n",
      "(slice(31, 32, None), slice(1641, 1769, None), slice(1415, 1543, None)) DIAP_mov5NonMatureP110shift[10, 10]\n",
      "(slice(31, 32, None), slice(1611, 1739, None), slice(1400, 1528, None)) DIAP_mov5NonMatureP110shift[0, -10]\n",
      "(slice(31, 32, None), slice(1641, 1769, None), slice(1400, 1528, None)) DIAP_mov5NonMatureP110shift[0, 10]\n",
      "(slice(31, 32, None), slice(1387, 1515, None), slice(1140, 1268, None)) DIAP_mov5NonMatureP111shift[0, 0]\n",
      "(slice(31, 32, None), slice(1387, 1515, None), slice(1125, 1253, None)) DIAP_mov5NonMatureP111shift[-10, 0]\n"
     ]
    },
    {
     "ename": "KeyboardInterrupt",
     "evalue": "",
     "output_type": "error",
     "traceback": [
      "\u001b[0;31m---------------------------------------------------------------------------\u001b[0m",
      "\u001b[0;31mKeyboardInterrupt\u001b[0m                         Traceback (most recent call last)",
      "\u001b[0;32m<ipython-input-6-0c4954234b34>\u001b[0m in \u001b[0;36m<module>\u001b[0;34m\u001b[0m\n\u001b[0;32m----> 1\u001b[0;31m \u001b[0mMovieCreator\u001b[0m\u001b[0;34m.\u001b[0m\u001b[0mImageLabelDataSet\u001b[0m\u001b[0;34m(\u001b[0m\u001b[0mImageDir\u001b[0m\u001b[0;34m,\u001b[0m \u001b[0mSegImageDir\u001b[0m\u001b[0;34m,\u001b[0m \u001b[0mCSVDir\u001b[0m\u001b[0;34m,\u001b[0m\u001b[0mSaveDir\u001b[0m\u001b[0;34m,\u001b[0m \u001b[0mStaticName\u001b[0m\u001b[0;34m,\u001b[0m \u001b[0mStaticLabel\u001b[0m\u001b[0;34m,\u001b[0m \u001b[0mCSVNameDiff\u001b[0m\u001b[0;34m,\u001b[0m\u001b[0mcrop_size\u001b[0m\u001b[0;34m,\u001b[0m \u001b[0moffset\u001b[0m \u001b[0;34m=\u001b[0m \u001b[0moffset\u001b[0m\u001b[0;34m)\u001b[0m\u001b[0;34m\u001b[0m\u001b[0;34m\u001b[0m\u001b[0m\n\u001b[0m\u001b[1;32m      2\u001b[0m \u001b[0;34m\u001b[0m\u001b[0m\n",
      "\u001b[0;32m~/anaconda3/bin/ONT/NEATUtils/MovieCreator.py\u001b[0m in \u001b[0;36mImageLabelDataSet\u001b[0;34m(ImageDir, SegImageDir, CSVDir, SaveDir, StaticName, StaticLabel, CSVNameDiff, crop_size, gridX, gridY, offset)\u001b[0m\n\u001b[1;32m    240\u001b[0m                                             \u001b[0;31m#Categories + XYHW + Confidence\u001b[0m\u001b[0;34m\u001b[0m\u001b[0;34m\u001b[0m\u001b[0;34m\u001b[0m\u001b[0m\n\u001b[1;32m    241\u001b[0m                                             \u001b[0;32mfor\u001b[0m \u001b[0mt\u001b[0m \u001b[0;32min\u001b[0m \u001b[0mrange\u001b[0m\u001b[0;34m(\u001b[0m\u001b[0;36m1\u001b[0m\u001b[0;34m,\u001b[0m \u001b[0mlen\u001b[0m\u001b[0;34m(\u001b[0m\u001b[0mtime\u001b[0m\u001b[0;34m)\u001b[0m\u001b[0;34m)\u001b[0m\u001b[0;34m:\u001b[0m\u001b[0;34m\u001b[0m\u001b[0;34m\u001b[0m\u001b[0m\n\u001b[0;32m--> 242\u001b[0;31m                                                \u001b[0mImageMaker\u001b[0m\u001b[0;34m(\u001b[0m\u001b[0mtime\u001b[0m\u001b[0;34m[\u001b[0m\u001b[0mt\u001b[0m\u001b[0;34m]\u001b[0m\u001b[0;34m,\u001b[0m \u001b[0my\u001b[0m\u001b[0;34m[\u001b[0m\u001b[0mt\u001b[0m\u001b[0;34m]\u001b[0m\u001b[0;34m,\u001b[0m \u001b[0mx\u001b[0m\u001b[0;34m[\u001b[0m\u001b[0mt\u001b[0m\u001b[0;34m]\u001b[0m\u001b[0;34m,\u001b[0m \u001b[0mimage\u001b[0m\u001b[0;34m,\u001b[0m \u001b[0msegimage\u001b[0m\u001b[0;34m,\u001b[0m \u001b[0mcrop_size\u001b[0m\u001b[0;34m,\u001b[0m \u001b[0mgridX\u001b[0m\u001b[0;34m,\u001b[0m \u001b[0mgridY\u001b[0m\u001b[0;34m,\u001b[0m \u001b[0moffset\u001b[0m\u001b[0;34m,\u001b[0m \u001b[0mTotalCategories\u001b[0m\u001b[0;34m,\u001b[0m \u001b[0mtrainlabel\u001b[0m\u001b[0;34m,\u001b[0m \u001b[0mName\u001b[0m \u001b[0;34m+\u001b[0m \u001b[0mEventname\u001b[0m \u001b[0;34m+\u001b[0m \u001b[0mstr\u001b[0m\u001b[0;34m(\u001b[0m\u001b[0mcount\u001b[0m\u001b[0;34m)\u001b[0m\u001b[0;34m,\u001b[0m \u001b[0mSaveDir\u001b[0m\u001b[0;34m)\u001b[0m\u001b[0;34m\u001b[0m\u001b[0;34m\u001b[0m\u001b[0m\n\u001b[0m\u001b[1;32m    243\u001b[0m                                                \u001b[0mcount\u001b[0m \u001b[0;34m=\u001b[0m \u001b[0mcount\u001b[0m \u001b[0;34m+\u001b[0m \u001b[0;36m1\u001b[0m\u001b[0;34m\u001b[0m\u001b[0;34m\u001b[0m\u001b[0m\n\u001b[1;32m    244\u001b[0m \u001b[0;34m\u001b[0m\u001b[0m\n",
      "\u001b[0;32m~/anaconda3/bin/ONT/NEATUtils/MovieCreator.py\u001b[0m in \u001b[0;36mImageMaker\u001b[0;34m(time, y, x, image, segimage, crop_size, gridX, gridY, offset, TotalCategories, trainlabel, name, save_dir)\u001b[0m\n\u001b[1;32m    316\u001b[0m \u001b[0;34m\u001b[0m\u001b[0m\n\u001b[1;32m    317\u001b[0m                                     \u001b[0;32mif\u001b[0m\u001b[0;34m(\u001b[0m\u001b[0mcrop_image\u001b[0m\u001b[0;34m.\u001b[0m\u001b[0mshape\u001b[0m\u001b[0;34m[\u001b[0m\u001b[0;36m1\u001b[0m\u001b[0;34m]\u001b[0m\u001b[0;34m==\u001b[0m \u001b[0mImagesizeY\u001b[0m \u001b[0;32mand\u001b[0m \u001b[0mcrop_image\u001b[0m\u001b[0;34m.\u001b[0m\u001b[0mshape\u001b[0m\u001b[0;34m[\u001b[0m\u001b[0;36m2\u001b[0m\u001b[0;34m]\u001b[0m\u001b[0;34m==\u001b[0m \u001b[0mImagesizeX\u001b[0m\u001b[0;34m)\u001b[0m\u001b[0;34m:\u001b[0m\u001b[0;34m\u001b[0m\u001b[0;34m\u001b[0m\u001b[0m\n\u001b[0;32m--> 318\u001b[0;31m                                              \u001b[0mimwrite\u001b[0m\u001b[0;34m(\u001b[0m\u001b[0;34m(\u001b[0m\u001b[0msave_dir\u001b[0m \u001b[0;34m+\u001b[0m \u001b[0;34m'/'\u001b[0m \u001b[0;34m+\u001b[0m \u001b[0mnewname\u001b[0m \u001b[0;34m+\u001b[0m \u001b[0;34m'.tif'\u001b[0m  \u001b[0;34m)\u001b[0m \u001b[0;34m,\u001b[0m \u001b[0mcrop_image\u001b[0m\u001b[0;34m.\u001b[0m\u001b[0mastype\u001b[0m\u001b[0;34m(\u001b[0m\u001b[0;34m'float32'\u001b[0m\u001b[0;34m)\u001b[0m\u001b[0;34m)\u001b[0m\u001b[0;34m\u001b[0m\u001b[0;34m\u001b[0m\u001b[0m\n\u001b[0m\u001b[1;32m    319\u001b[0m                                              \u001b[0mEvent_data\u001b[0m\u001b[0;34m.\u001b[0m\u001b[0mappend\u001b[0m\u001b[0;34m(\u001b[0m\u001b[0;34m[\u001b[0m\u001b[0mLabel\u001b[0m\u001b[0;34m[\u001b[0m\u001b[0mi\u001b[0m\u001b[0;34m]\u001b[0m \u001b[0;32mfor\u001b[0m \u001b[0mi\u001b[0m \u001b[0;32min\u001b[0m \u001b[0mrange\u001b[0m\u001b[0;34m(\u001b[0m\u001b[0;36m0\u001b[0m\u001b[0;34m,\u001b[0m\u001b[0mlen\u001b[0m\u001b[0;34m(\u001b[0m\u001b[0mLabel\u001b[0m\u001b[0;34m)\u001b[0m\u001b[0;34m)\u001b[0m\u001b[0;34m]\u001b[0m\u001b[0;34m)\u001b[0m\u001b[0;34m\u001b[0m\u001b[0;34m\u001b[0m\u001b[0m\n\u001b[1;32m    320\u001b[0m                                              \u001b[0;32mif\u001b[0m\u001b[0;34m(\u001b[0m\u001b[0mos\u001b[0m\u001b[0;34m.\u001b[0m\u001b[0mpath\u001b[0m\u001b[0;34m.\u001b[0m\u001b[0mexists\u001b[0m\u001b[0;34m(\u001b[0m\u001b[0msave_dir\u001b[0m \u001b[0;34m+\u001b[0m \u001b[0;34m'/'\u001b[0m \u001b[0;34m+\u001b[0m \u001b[0;34m(\u001b[0m\u001b[0mnewname\u001b[0m\u001b[0;34m)\u001b[0m \u001b[0;34m+\u001b[0m \u001b[0;34m\".csv\"\u001b[0m\u001b[0;34m)\u001b[0m\u001b[0;34m)\u001b[0m\u001b[0;34m:\u001b[0m\u001b[0;34m\u001b[0m\u001b[0;34m\u001b[0m\u001b[0m\n",
      "\u001b[0;32m~/anaconda3/envs/tensorflowGPU/lib/python3.6/site-packages/tifffile/tifffile.py\u001b[0m in \u001b[0;36mimwrite\u001b[0;34m(file, data, shape, dtype, **kwargs)\u001b[0m\n\u001b[1;32m    787\u001b[0m         \u001b[0mtifargs\u001b[0m\u001b[0;34m[\u001b[0m\u001b[0;34m'byteorder'\u001b[0m\u001b[0;34m]\u001b[0m \u001b[0;34m=\u001b[0m \u001b[0mbyteorder\u001b[0m\u001b[0;34m\u001b[0m\u001b[0;34m\u001b[0m\u001b[0m\n\u001b[1;32m    788\u001b[0m \u001b[0;34m\u001b[0m\u001b[0m\n\u001b[0;32m--> 789\u001b[0;31m     \u001b[0;32mwith\u001b[0m \u001b[0mTiffWriter\u001b[0m\u001b[0;34m(\u001b[0m\u001b[0mfile\u001b[0m\u001b[0;34m,\u001b[0m \u001b[0;34m**\u001b[0m\u001b[0mtifargs\u001b[0m\u001b[0;34m)\u001b[0m \u001b[0;32mas\u001b[0m \u001b[0mtif\u001b[0m\u001b[0;34m:\u001b[0m\u001b[0;34m\u001b[0m\u001b[0;34m\u001b[0m\u001b[0m\n\u001b[0m\u001b[1;32m    790\u001b[0m         \u001b[0;32mreturn\u001b[0m \u001b[0mtif\u001b[0m\u001b[0;34m.\u001b[0m\u001b[0msave\u001b[0m\u001b[0;34m(\u001b[0m\u001b[0mdata\u001b[0m\u001b[0;34m,\u001b[0m \u001b[0mshape\u001b[0m\u001b[0;34m,\u001b[0m \u001b[0mdtype\u001b[0m\u001b[0;34m,\u001b[0m \u001b[0;34m**\u001b[0m\u001b[0mkwargs\u001b[0m\u001b[0;34m)\u001b[0m\u001b[0;34m\u001b[0m\u001b[0;34m\u001b[0m\u001b[0m\n\u001b[1;32m    791\u001b[0m \u001b[0;34m\u001b[0m\u001b[0m\n",
      "\u001b[0;32m~/anaconda3/envs/tensorflowGPU/lib/python3.6/site-packages/tifffile/tifffile.py\u001b[0m in \u001b[0;36m__init__\u001b[0;34m(self, file, bigtiff, byteorder, append, imagej, ome)\u001b[0m\n\u001b[1;32m   1016\u001b[0m             \u001b[0mself\u001b[0m\u001b[0;34m.\u001b[0m\u001b[0m_fh\u001b[0m\u001b[0;34m.\u001b[0m\u001b[0mseek\u001b[0m\u001b[0;34m(\u001b[0m\u001b[0;36m0\u001b[0m\u001b[0;34m,\u001b[0m \u001b[0;36m2\u001b[0m\u001b[0;34m)\u001b[0m\u001b[0;34m\u001b[0m\u001b[0;34m\u001b[0m\u001b[0m\n\u001b[1;32m   1017\u001b[0m         \u001b[0;32melse\u001b[0m\u001b[0;34m:\u001b[0m\u001b[0;34m\u001b[0m\u001b[0;34m\u001b[0m\u001b[0m\n\u001b[0;32m-> 1018\u001b[0;31m             \u001b[0mself\u001b[0m\u001b[0;34m.\u001b[0m\u001b[0m_fh\u001b[0m \u001b[0;34m=\u001b[0m \u001b[0mFileHandle\u001b[0m\u001b[0;34m(\u001b[0m\u001b[0mfile\u001b[0m\u001b[0;34m,\u001b[0m \u001b[0mmode\u001b[0m\u001b[0;34m=\u001b[0m\u001b[0;34m'wb'\u001b[0m\u001b[0;34m,\u001b[0m \u001b[0msize\u001b[0m\u001b[0;34m=\u001b[0m\u001b[0;36m0\u001b[0m\u001b[0;34m)\u001b[0m\u001b[0;34m\u001b[0m\u001b[0;34m\u001b[0m\u001b[0m\n\u001b[0m\u001b[1;32m   1019\u001b[0m             \u001b[0mself\u001b[0m\u001b[0;34m.\u001b[0m\u001b[0m_fh\u001b[0m\u001b[0;34m.\u001b[0m\u001b[0mwrite\u001b[0m\u001b[0;34m(\u001b[0m\u001b[0;34m{\u001b[0m\u001b[0;34m'<'\u001b[0m\u001b[0;34m:\u001b[0m \u001b[0;34mb'II'\u001b[0m\u001b[0;34m,\u001b[0m \u001b[0;34m'>'\u001b[0m\u001b[0;34m:\u001b[0m \u001b[0;34mb'MM'\u001b[0m\u001b[0;34m}\u001b[0m\u001b[0;34m[\u001b[0m\u001b[0mbyteorder\u001b[0m\u001b[0;34m]\u001b[0m\u001b[0;34m)\u001b[0m\u001b[0;34m\u001b[0m\u001b[0;34m\u001b[0m\u001b[0m\n\u001b[1;32m   1020\u001b[0m             \u001b[0;32mif\u001b[0m \u001b[0mbigtiff\u001b[0m\u001b[0;34m:\u001b[0m\u001b[0;34m\u001b[0m\u001b[0;34m\u001b[0m\u001b[0m\n",
      "\u001b[0;32m~/anaconda3/envs/tensorflowGPU/lib/python3.6/site-packages/tifffile/tifffile.py\u001b[0m in \u001b[0;36m__init__\u001b[0;34m(self, file, mode, name, offset, size)\u001b[0m\n\u001b[1;32m   7359\u001b[0m         \u001b[0mself\u001b[0m\u001b[0;34m.\u001b[0m\u001b[0mis_file\u001b[0m \u001b[0;34m=\u001b[0m \u001b[0;32mFalse\u001b[0m\u001b[0;34m\u001b[0m\u001b[0;34m\u001b[0m\u001b[0m\n\u001b[1;32m   7360\u001b[0m         \u001b[0mself\u001b[0m\u001b[0;34m.\u001b[0m\u001b[0m_lock\u001b[0m \u001b[0;34m=\u001b[0m \u001b[0mNullContext\u001b[0m\u001b[0;34m(\u001b[0m\u001b[0;34m)\u001b[0m\u001b[0;34m\u001b[0m\u001b[0;34m\u001b[0m\u001b[0m\n\u001b[0;32m-> 7361\u001b[0;31m         \u001b[0mself\u001b[0m\u001b[0;34m.\u001b[0m\u001b[0mopen\u001b[0m\u001b[0;34m(\u001b[0m\u001b[0;34m)\u001b[0m\u001b[0;34m\u001b[0m\u001b[0;34m\u001b[0m\u001b[0m\n\u001b[0m\u001b[1;32m   7362\u001b[0m \u001b[0;34m\u001b[0m\u001b[0m\n\u001b[1;32m   7363\u001b[0m     \u001b[0;32mdef\u001b[0m \u001b[0mopen\u001b[0m\u001b[0;34m(\u001b[0m\u001b[0mself\u001b[0m\u001b[0;34m)\u001b[0m\u001b[0;34m:\u001b[0m\u001b[0;34m\u001b[0m\u001b[0;34m\u001b[0m\u001b[0m\n",
      "\u001b[0;32m~/anaconda3/envs/tensorflowGPU/lib/python3.6/site-packages/tifffile/tifffile.py\u001b[0m in \u001b[0;36mopen\u001b[0;34m(self)\u001b[0m\n\u001b[1;32m   7372\u001b[0m             \u001b[0mself\u001b[0m\u001b[0;34m.\u001b[0m\u001b[0m_file\u001b[0m \u001b[0;34m=\u001b[0m \u001b[0mos\u001b[0m\u001b[0;34m.\u001b[0m\u001b[0mpath\u001b[0m\u001b[0;34m.\u001b[0m\u001b[0mrealpath\u001b[0m\u001b[0;34m(\u001b[0m\u001b[0mself\u001b[0m\u001b[0;34m.\u001b[0m\u001b[0m_file\u001b[0m\u001b[0;34m)\u001b[0m\u001b[0;34m\u001b[0m\u001b[0;34m\u001b[0m\u001b[0m\n\u001b[1;32m   7373\u001b[0m             \u001b[0mself\u001b[0m\u001b[0;34m.\u001b[0m\u001b[0m_dir\u001b[0m\u001b[0;34m,\u001b[0m \u001b[0mself\u001b[0m\u001b[0;34m.\u001b[0m\u001b[0m_name\u001b[0m \u001b[0;34m=\u001b[0m \u001b[0mos\u001b[0m\u001b[0;34m.\u001b[0m\u001b[0mpath\u001b[0m\u001b[0;34m.\u001b[0m\u001b[0msplit\u001b[0m\u001b[0;34m(\u001b[0m\u001b[0mself\u001b[0m\u001b[0;34m.\u001b[0m\u001b[0m_file\u001b[0m\u001b[0;34m)\u001b[0m\u001b[0;34m\u001b[0m\u001b[0;34m\u001b[0m\u001b[0m\n\u001b[0;32m-> 7374\u001b[0;31m             \u001b[0mself\u001b[0m\u001b[0;34m.\u001b[0m\u001b[0m_fh\u001b[0m \u001b[0;34m=\u001b[0m \u001b[0mopen\u001b[0m\u001b[0;34m(\u001b[0m\u001b[0mself\u001b[0m\u001b[0;34m.\u001b[0m\u001b[0m_file\u001b[0m\u001b[0;34m,\u001b[0m \u001b[0mself\u001b[0m\u001b[0;34m.\u001b[0m\u001b[0m_mode\u001b[0m\u001b[0;34m)\u001b[0m\u001b[0;34m\u001b[0m\u001b[0;34m\u001b[0m\u001b[0m\n\u001b[0m\u001b[1;32m   7375\u001b[0m             \u001b[0mself\u001b[0m\u001b[0;34m.\u001b[0m\u001b[0m_close\u001b[0m \u001b[0;34m=\u001b[0m \u001b[0;32mTrue\u001b[0m\u001b[0;34m\u001b[0m\u001b[0;34m\u001b[0m\u001b[0m\n\u001b[1;32m   7376\u001b[0m             \u001b[0;32mif\u001b[0m \u001b[0mself\u001b[0m\u001b[0;34m.\u001b[0m\u001b[0m_offset\u001b[0m \u001b[0;32mis\u001b[0m \u001b[0;32mNone\u001b[0m\u001b[0;34m:\u001b[0m\u001b[0;34m\u001b[0m\u001b[0;34m\u001b[0m\u001b[0m\n",
      "\u001b[0;31mKeyboardInterrupt\u001b[0m: "
     ]
    }
   ],
   "source": [
    "MovieCreator.ImageLabelDataSet(ImageDir, SegImageDir, CSVDir,SaveDir, StaticName, StaticLabel, CSVNameDiff,crop_size, offset = offset)\n",
    "\n"
   ]
  },
  {
   "cell_type": "code",
   "execution_count": null,
   "metadata": {},
   "outputs": [],
   "source": []
  }
 ],
 "metadata": {
  "kernelspec": {
   "display_name": "Python 3",
   "language": "python",
   "name": "python3"
  },
  "language_info": {
   "codemirror_mode": {
    "name": "ipython",
    "version": 3
   },
   "file_extension": ".py",
   "mimetype": "text/x-python",
   "name": "python",
   "nbconvert_exporter": "python",
   "pygments_lexer": "ipython3",
   "version": "3.6.10"
  }
 },
 "nbformat": 4,
 "nbformat_minor": 4
}
