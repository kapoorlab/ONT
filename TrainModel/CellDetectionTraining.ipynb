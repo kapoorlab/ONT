{
 "cells": [
  {
   "cell_type": "code",
   "execution_count": 1,
   "metadata": {},
   "outputs": [
    {
     "name": "stderr",
     "output_type": "stream",
     "text": [
      "Using TensorFlow backend.\n"
     ]
    }
   ],
   "source": [
    "import sys\n",
    "import os\n",
    "from glob import glob\n",
    "sys.path.append(\"../NEAT\")\n",
    "from NEATModels import NEATStaticDetection, nets\n",
    "from NEATModels.Staticconfig  import StaticNeatConfig\n",
    "from NEATUtils import helpers\n",
    "from NEATUtils.helpers import save_json\n",
    "os.environ[\"CUDA_VISIBLE_DEVICES\"]=\"0\"\n",
    "os.environ[\"HDF5_USE_FILE_LOCKING\"] = \"FALSE\""
   ]
  },
  {
   "cell_type": "code",
   "execution_count": 2,
   "metadata": {},
   "outputs": [],
   "source": [
    "TrainDataDir = '/data/u934/service_imagerie/CurieTrainingDatasets/StaticYolONEAT/'\n",
    "#Read and Write the h5 file, directory location and name\n",
    "Model_dir = '/data/u934/service_imagerie/CurieTrainingDatasets/YolONEAT/CurieDeepLearningModels/StaticYolONEAT/'\n",
    "Model_Name = 'OSStaticYolo.h5'\n"
   ]
  },
  {
   "cell_type": "code",
   "execution_count": null,
   "metadata": {},
   "outputs": [],
   "source": [
    "#Neural network parameters\n",
    "#For ORNET use residual = True and for OSNET use residual = False\n",
    "residual = False\n",
    "#NUmber of starting convolutional filters, is doubled down with increasing depth\n",
    "startfilter = 32\n",
    "#CNN network start layer, mid layers and lstm layer kernel size\n",
    "start_kernel = 3\n",
    "mid_kernel = 3\n",
    "#Network depth has to be 9n + 2, n= 3 or 4 is optimal for Notum dataset\n",
    "depth = 29\n",
    "#Training epochs, longer the better zith proper chosen leqrning rate\n",
    "epochs = 150\n",
    "#Size of the gradient descent length vector, start small and use callbacs to get smaller when reaching the minima\n",
    "learning_rate = 1.0E-4\n",
    "#For stochastic gradient decent, the batch size used for computing the gradients\n",
    "batch_size = 10\n",
    "# use softmax for single event per box, sigmoid for multi event per box\n",
    "last_activation = 'softmax'\n",
    "#X Y H W Confidence makes up the box vector\n",
    "box_vector = 5\n",
    "gridX = 1\n",
    "gridY = 1\n",
    "anchors = 1\n",
    "lambdacord = 1.5"
   ]
  },
  {
   "cell_type": "code",
   "execution_count": 3,
   "metadata": {},
   "outputs": [
    {
     "name": "stdout",
     "output_type": "stream",
     "text": [
      "StaticNeatConfig(ModelName='StaticOSNETd29K3.h5', batch_size=100, depth=29, epochs=250, learning_rate=0.0001, mid_kernel=3, residual=True, simple=False, start_kernel=3, startfilter=32)\n"
     ]
    }
   ],
   "source": [
    "config = StaticNeatConfig(residual = residual, startfilter = startfilter, start_kernel = start_kernel, \n",
    "                    mid_kernel = mid_kernel, depth = depth, lstm = lstm, learning_rate = learning_rate, \n",
    "                    batch_size = batch_size, epochs = epochs, ModelName = Model_Name,\n",
    "                    gridX = gridX, gridY = gridY, anchors = anchors, lambdacord = lambdacord, last_activation = last_activation)\n",
    "\n",
    "config_json = config.to_json()\n",
    "\n",
    "show = True\n",
    "model_weights = Model_dir + Model_Name\n",
    "\n",
    "if os.path.exists(model_weights):\n",
    "\n",
    "    model_weights = model_weights\n",
    "    print('loading weights')\n",
    "else:\n",
    "   \n",
    "    model_weights = None\n",
    "\n",
    "\n",
    "Categories_Name = []\n",
    "Categories_Name.append(['Normal', 0])\n",
    "Categories_Name.append(['Apoptosis', 1])\n",
    "Categories_Name.append(['Divisions', 2])\n",
    "Categories_Name.append(['MacroKitty', 3])\n",
    "Categories_Name.append(['NonMatureP1', 4])\n",
    "Categories_Name.append(['MatureP1', 5])\n",
    "print(config)\n",
    "save_json(config_json, Model_dir + Model_Name + 'Param.json')"
   ]
  },
  {
   "cell_type": "code",
   "execution_count": null,
   "metadata": {},
   "outputs": [],
   "source": [
    "Train = NEATStaticDetection(config, NpzDirectory, TrainModelName,ValidationModelName, Categories_Name, box_vector = box_vector, Model_dir, Model_Name, model_weights = model_weights, show = show)\n",
    "\n",
    "Train.loadData()\n",
    "\n",
    "Train.TrainModel()\n"
   ]
  },
  {
   "cell_type": "code",
   "execution_count": null,
   "metadata": {},
   "outputs": [],
   "source": []
  },
  {
   "cell_type": "code",
   "execution_count": null,
   "metadata": {},
   "outputs": [],
   "source": []
  },
  {
   "cell_type": "code",
   "execution_count": null,
   "metadata": {},
   "outputs": [],
   "source": []
  }
 ],
 "metadata": {
  "kernelspec": {
   "display_name": "Python 3",
   "language": "python",
   "name": "python3"
  },
  "language_info": {
   "codemirror_mode": {
    "name": "ipython",
    "version": 3
   },
   "file_extension": ".py",
   "mimetype": "text/x-python",
   "name": "python",
   "nbconvert_exporter": "python",
   "pygments_lexer": "ipython3",
   "version": "3.8.5"
  },
  "toc": {
   "base_numbering": 1,
   "nav_menu": {},
   "number_sections": false,
   "sideBar": false,
   "skip_h1_title": false,
   "title_cell": "Table of Contents",
   "title_sidebar": "Contents",
   "toc_cell": false,
   "toc_position": {},
   "toc_section_display": false,
   "toc_window_display": false
  }
 },
 "nbformat": 4,
 "nbformat_minor": 4
}
