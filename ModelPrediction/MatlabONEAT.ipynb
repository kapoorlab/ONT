{
 "cells": [
  {
   "cell_type": "markdown",
   "metadata": {},
   "source": [
    "# Matlab Detection Accuracy checker\n",
    "In this notebook we use ONEAT network to verify if the event detected using Matlab codes is a true event or not.\n",
    "\n",
    "1) To use this notebook you need to Provide the directory of the timelapse movie (TYX)\n",
    "\n",
    "2) Directory of the segmentation movie\n",
    "\n",
    "3) A csv file containing co-ordinates of division/apoptosis\n",
    "\n",
    "Other attributes to be specified are mentioned below, you have to fill those fields before running the program"
   ]
  },
  {
   "cell_type": "code",
   "execution_count": 1,
   "metadata": {},
   "outputs": [
    {
     "name": "stderr",
     "output_type": "stream",
     "text": [
      "Using TensorFlow backend.\n"
     ]
    },
    {
     "ename": "ImportError",
     "evalue": "cannot import name 'ONETDynamicPrediction' from 'NEATModels' (../NEATModels/__init__.py)",
     "output_type": "error",
     "traceback": [
      "\u001b[0;31m---------------------------------------------------------------------------\u001b[0m",
      "\u001b[0;31mImportError\u001b[0m                               Traceback (most recent call last)",
      "\u001b[0;32m<ipython-input-1-aa7fdd3ecaa6>\u001b[0m in \u001b[0;36m<module>\u001b[0;34m\u001b[0m\n\u001b[1;32m      5\u001b[0m \u001b[0;34m\u001b[0m\u001b[0m\n\u001b[1;32m      6\u001b[0m \u001b[0;34m\u001b[0m\u001b[0m\n\u001b[0;32m----> 7\u001b[0;31m \u001b[0;32mfrom\u001b[0m \u001b[0mNEATUtils\u001b[0m\u001b[0;34m.\u001b[0m\u001b[0mModelPrediction\u001b[0m \u001b[0;32mimport\u001b[0m \u001b[0mMatlabTester\u001b[0m\u001b[0;34m\u001b[0m\u001b[0;34m\u001b[0m\u001b[0m\n\u001b[0m\u001b[1;32m      8\u001b[0m \u001b[0;34m\u001b[0m\u001b[0m\n\u001b[1;32m      9\u001b[0m \u001b[0;32mfrom\u001b[0m \u001b[0mpathlib\u001b[0m \u001b[0;32mimport\u001b[0m \u001b[0mPath\u001b[0m\u001b[0;34m\u001b[0m\u001b[0;34m\u001b[0m\u001b[0m\n",
      "\u001b[0;32m~/Downloads/ONT/NEATUtils/ModelPrediction.py\u001b[0m in \u001b[0;36m<module>\u001b[0;34m\u001b[0m\n\u001b[1;32m      6\u001b[0m \u001b[0;34m@\u001b[0m\u001b[0mauthor\u001b[0m\u001b[0;34m:\u001b[0m \u001b[0maimachine\u001b[0m\u001b[0;34m\u001b[0m\u001b[0;34m\u001b[0m\u001b[0m\n\u001b[1;32m      7\u001b[0m \"\"\"\n\u001b[0;32m----> 8\u001b[0;31m \u001b[0;32mfrom\u001b[0m \u001b[0mNEATModels\u001b[0m \u001b[0;32mimport\u001b[0m \u001b[0mONETDynamicPrediction\u001b[0m\u001b[0;34m,\u001b[0m\u001b[0mONETStaticPrediction\u001b[0m\u001b[0;34m,\u001b[0m \u001b[0mONETSmartPrediction\u001b[0m\u001b[0;34m,\u001b[0m \u001b[0mONETSmartSancerePrediction\u001b[0m\u001b[0;34m,\u001b[0m \u001b[0mONETLivePrediction\u001b[0m\u001b[0;34m\u001b[0m\u001b[0;34m\u001b[0m\u001b[0m\n\u001b[0m\u001b[1;32m      9\u001b[0m \u001b[0;32mfrom\u001b[0m \u001b[0mNEATUtils\u001b[0m \u001b[0;32mimport\u001b[0m \u001b[0mNMS\u001b[0m\u001b[0;34m\u001b[0m\u001b[0;34m\u001b[0m\u001b[0m\n\u001b[1;32m     10\u001b[0m \u001b[0;32mfrom\u001b[0m \u001b[0mNEATUtils\u001b[0m\u001b[0;34m.\u001b[0m\u001b[0mhelpers\u001b[0m \u001b[0;32mimport\u001b[0m \u001b[0mMakeTrees\u001b[0m\u001b[0;34m,\u001b[0m \u001b[0mDensityCounter\u001b[0m\u001b[0;34m\u001b[0m\u001b[0;34m\u001b[0m\u001b[0m\n",
      "\u001b[0;31mImportError\u001b[0m: cannot import name 'ONETDynamicPrediction' from 'NEATModels' (../NEATModels/__init__.py)"
     ]
    }
   ],
   "source": [
    "\n",
    "import os\n",
    "os.environ[\"CUDA_VISIBLE_DEVICES\"]=\"1\"\n",
    "import sys\n",
    "sys.path.append(\"../\")\n",
    "\n",
    "\n",
    "from NEATUtils.ModelPrediction import MatlabTester\n",
    "\n",
    "from pathlib import Path\n"
   ]
  },
  {
   "cell_type": "markdown",
   "metadata": {},
   "source": [
    "# Prediction specific Attributes\n",
    "\n",
    "1) In the cell below specify the directory of the NEAT trained models\n",
    "\n",
    "2) The name of the movie to be tested\n",
    "\n",
    "3) The segmentation of the provided movie (binary image)\n",
    "\n",
    "4) A CSV file containing T Y X written as three columns\n",
    "\n",
    "5) The model names are written in ModelA and ModelB fields\n",
    "\n",
    "6) About 7 or 8 cells should come inside this view, use downsampling factor of 2 if this is not the cqse\n",
    "\n",
    "7) TestCategory is the name of the event which are Apoptosis = 1  Division = 2\n"
   ]
  },
  {
   "cell_type": "code",
   "execution_count": 4,
   "metadata": {},
   "outputs": [],
   "source": [
    "ModelDirectory = '/home/sancere/VarunNewton/CurieDeepLearningModels/O-NEATweights/'\n",
    "Movie =  '/home/sancere/VarunNewton/Lucas2Varun/DivisionMatlab/wt_mov8.tif'\n",
    "\n",
    "CSVFile = '/home/sancere/VarunNewton/Lucas2Varun/DivisionMatlab/Apoptosis_Coordinates_TYX_for_wt_mov8.csv'\n",
    "Results = '/home/sancere/VarunNewton/Lucas2Varun/DivisionMatlab/SizeONEATApoptosis_Coordinates_TYX_for_wt_mov8.csv'\n",
    "\n",
    "#ONEAT model name\n",
    "ModelA = 'OSNETd29K3'      \n",
    "ModelB =  'ORNETd29K3'    \n",
    "multievent = True\n",
    "DownsampleFactor = 2\n",
    "TestCategory = 1"
   ]
  },
  {
   "cell_type": "code",
   "execution_count": 5,
   "metadata": {
    "scrolled": false
   },
   "outputs": [
    {
     "name": "stderr",
     "output_type": "stream",
     "text": [
      "  8%|▊         | 14/177 [00:00<00:01, 137.51it/s]"
     ]
    },
    {
     "name": "stdout",
     "output_type": "stream",
     "text": [
      "(177, 2096, 3678)\n"
     ]
    },
    {
     "name": "stderr",
     "output_type": "stream",
     "text": [
      "100%|██████████| 177/177 [00:01<00:00, 133.10it/s]\n",
      "100%|██████████| 1613/1613 [01:56<00:00, 13.89it/s]\n"
     ]
    }
   ],
   "source": [
    "\n",
    "ConfigFile = ModelDirectory + ModelA + '.json'\n",
    "\n",
    "MatlabTester(Movie, CSVFile, Results, ModelDirectory, ModelA, ModelB, ConfigFile, \n",
    "             DownsampleFactor, TestCategory, multievent = multievent)"
   ]
  },
  {
   "cell_type": "code",
   "execution_count": null,
   "metadata": {},
   "outputs": [],
   "source": []
  }
 ],
 "metadata": {
  "kernelspec": {
   "display_name": "Python 3",
   "language": "python",
   "name": "python3"
  },
  "language_info": {
   "codemirror_mode": {
    "name": "ipython",
    "version": 3
   },
   "file_extension": ".py",
   "mimetype": "text/x-python",
   "name": "python",
   "nbconvert_exporter": "python",
   "pygments_lexer": "ipython3",
   "version": "3.8.5"
  }
 },
 "nbformat": 4,
 "nbformat_minor": 4
}
