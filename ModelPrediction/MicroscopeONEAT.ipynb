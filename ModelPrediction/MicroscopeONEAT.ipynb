{
 "cells": [
  {
   "cell_type": "markdown",
   "metadata": {},
   "source": [
    "# Star Dist and Smart ONEAT \n",
    "In this notebook we combine Star Dist and ONEAT to predict events.\n",
    "\n",
    "1) To use this notebook you need to provide the directory where images are written live\n",
    "\n",
    "2) The CSV file with events will be written in Results folder inside that folder\n",
    "\n",
    "\n",
    "Other attributes to be specified are mentioned below, you have to fill those fields before running the program"
   ]
  },
  {
   "cell_type": "code",
   "execution_count": null,
   "metadata": {},
   "outputs": [],
   "source": [
    "\n",
    "import os\n",
    "os.environ[\"CUDA_VISIBLE_DEVICES\"]=\"0\"\n",
    "import sys\n",
    "sys.path.append(\"../NEAT\")\n",
    "from tifffile import imread, imwrite\n",
    "from NEATUtils.MultiModelPrediction import SmartPredONEAT, ConvertModel\n",
    "from NEATUtils.helpers import MarkerToCSV\n",
    "from keras.models import load_model\n",
    "import warnings\n",
    "warnings.filterwarnings(\"ignore\")\n",
    "from NEATModels import mid_yolo_loss,simple_yolo_loss, Concat\n",
    "from pathlib import Path\n"
   ]
  },
  {
   "cell_type": "markdown",
   "metadata": {},
   "source": [
    "# Prediction specific Attributes\n",
    "\n",
    "1) In the cell below specify the directory of the NEAT trained models\n",
    "\n",
    "2) The directory where files are written\n",
    "\n",
    "3) Since Neat was trained on a 55 by 55 pixel images that means about 7 or 8 cells should come inside this view, which is true for binning 2 movies but if you are using binning 1 and the program takes care of other things but needs to know if the movie is binning 1 or 2\n",
    "\n",
    "4) Number of GPU's, if you have more than one GPU we can split the job of finding the markers and running ONEAT on them\n",
    "\n"
   ]
  },
  {
   "cell_type": "code",
   "execution_count": null,
   "metadata": {
    "scrolled": true
   },
   "outputs": [],
   "source": [
    "ModelDirectory = '/data/u934/service_imagerie/v_kapoor/CurieDeepLearningModels/O-NEATweights/'\n",
    "MovieDir =  '/data/u934/service_imagerie/v_kapoor/ONEAT_fly_test/'\n",
    "ResultsDirectory = '/data/u934/service_imagerie/v_kapoor/ONEAT_fly_test/Results/'\n",
    "\n",
    "#Center ONEAT\n",
    "CenterONEATA = 'FourFrameCenterPredORNETd29K3'\n",
    "CenterONEATB = 'FourFrameCenterPredOSNETd29K3'\n",
    "\n",
    "ConfigFileA = ModelDirectory + ONEATA + '.json'\n",
    "ConfigFileB = ModelDirectory + ONEATB + '.json'\n",
    "\n",
    "#Type of model decides the loss function used\n",
    "multievent = False\n",
    "\n",
    "Path(ResultsDirectory).mkdir(exist_ok = True)\n",
    "DownsampleFactor = 2\n",
    "n_tiles = 4\n",
    "TimeFrames = 4\n",
    "categories = 6\n",
    "TrainshapeX = 54\n",
    "TrainshapeY = 54\n",
    "sizeTminus = 3\n",
    "cutoff = 1.0 - 1.0E-8\n",
    "\n",
    "ConvertModel(ModelDirectory, CenterONEATA)\n",
    "ConvertModel(ModelDirectory, CenterONEATB)\n",
    "\n",
    "if classicNEAT:\n",
    "\n",
    " NEATA =  load_model( ModelDirectory + CenterONEATA + '.h5',  custom_objects={'loss':mid_yolo_loss(categories), 'Concat':Concat})\n",
    " NEATB =  load_model( ModelDirectory + CenterONEATB + '.h5',  custom_objects={'loss':mid_yolo_loss(categories), 'Concat':Concat})\n",
    "\n",
    "\n",
    "if centerNEAT:\n",
    "\n",
    " NEATA =  load_model( ModelDirectory + CenterONEATA + '.h5',  custom_objects={'loss':cat_simple_yolo_loss(categories), 'Concat':Concat})\n",
    " NEATB =   load_model( ModelDirectory + CenterONEATB + '.h5',  custom_objects={'loss':cat_simple_yolo_loss(categories), 'Concat':Concat})\n",
    "\n",
    "if simplecenterNEAT:\n",
    " NEATA =  load_model( ModelDirectory + CenterONEATA + '.h5',  custom_objects={'loss':simple_yolo_loss(categories), 'Concat':Concat})\n",
    " NEATB =  load_model( ModelDirectory + CenterONEATB + '.h5',  custom_objects={'loss':simple_yolo_loss(categories), 'Concat':Concat})\n",
    "\n",
    "\n"
   ]
  },
  {
   "cell_type": "code",
   "execution_count": null,
   "metadata": {
    "scrolled": false
   },
   "outputs": [],
   "source": [
    "\n",
    "\n",
    "SmartPredONEAT(MovieDir, ResultsDirectory, NEATA, NEATB,  DownsampleFactor,[], [], 0,  classicNEAT = classicNEAT, \n",
    "                   TimeFrames = TimeFrames, Mode = 'Prediction',categories = categories, TrainshapeX = TrainshapeX, TrainshapeY = TrainshapeY, cut = cutoff, sizeTminus = sizeTminus, n_tiles = n_tiles)"
   ]
  },
  {
   "cell_type": "code",
   "execution_count": null,
   "metadata": {},
   "outputs": [],
   "source": []
  }
 ],
 "metadata": {
  "kernelspec": {
   "display_name": "Python 3",
   "language": "python",
   "name": "python3"
  },
  "language_info": {
   "codemirror_mode": {
    "name": "ipython",
    "version": 3
   },
   "file_extension": ".py",
   "mimetype": "text/x-python",
   "name": "python",
   "nbconvert_exporter": "python",
   "pygments_lexer": "ipython3",
   "version": "3.7.4"
  }
 },
 "nbformat": 4,
 "nbformat_minor": 4
}
