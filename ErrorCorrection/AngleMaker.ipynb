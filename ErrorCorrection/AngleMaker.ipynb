{
 "cells": [
  {
   "cell_type": "code",
   "execution_count": 1,
   "metadata": {},
   "outputs": [],
   "source": [
    "import os\n",
    "import sys\n",
    "sys.path.append(\"../\")\n",
    "from NEATUtils.MovieCreator import AngleAppender\n",
    "from pathlib import Path"
   ]
  },
  {
   "cell_type": "code",
   "execution_count": null,
   "metadata": {},
   "outputs": [],
   "source": [
    "AngleCSV = '/home/kapoorlab/NEATTest/Division_Coordinates_TYX_for_wt_mov8.csv'\n",
    "ONTCSV = '/home/kapoorlab/NEATTest/ONTDivision_Coordinates_TYX_for_wt_mov8.csv'\n",
    "savedir = '/home/kapoorlab/NEATTest/'\n",
    "FirstColumn = 'Y'"
   ]
  },
  {
   "cell_type": "code",
   "execution_count": null,
   "metadata": {},
   "outputs": [],
   "source": [
    " AngleAppender(AngleCSV, ONTCSV, savedir, ColumnA = FirstColumn)"
   ]
  }
 ],
 "metadata": {
  "kernelspec": {
   "display_name": "Python 3",
   "language": "python",
   "name": "python3"
  },
  "language_info": {
   "codemirror_mode": {
    "name": "ipython",
    "version": 3
   },
   "file_extension": ".py",
   "mimetype": "text/x-python",
   "name": "python",
   "nbconvert_exporter": "python",
   "pygments_lexer": "ipython3",
   "version": "3.7.2"
  }
 },
 "nbformat": 4,
 "nbformat_minor": 4
}
